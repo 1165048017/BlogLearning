{
 "cells": [
  {
   "cell_type": "code",
   "execution_count": 1,
   "metadata": {},
   "outputs": [],
   "source": [
    "import tensorflow as tf\n",
    "import numpy as np\n",
    "import matplotlib.pyplot as plt"
   ]
  },
  {
   "cell_type": "code",
   "execution_count": 2,
   "metadata": {},
   "outputs": [],
   "source": [
    "# generate trianing data\n",
    "input_x = np.linspace(-1,1,101,dtype=np.float32)\n",
    "input_y = 3*input_x+5"
   ]
  },
  {
   "cell_type": "markdown",
   "metadata": {},
   "source": [
    "## regression with tensorflow"
   ]
  },
  {
   "cell_type": "code",
   "execution_count": 4,
   "metadata": {},
   "outputs": [],
   "source": [
    "X = tf.constant(input_x)\n",
    "Y = tf.constant(input_y)"
   ]
  },
  {
   "cell_type": "code",
   "execution_count": 5,
   "metadata": {},
   "outputs": [],
   "source": [
    "w = tf.Variable(initial_value=0.0)\n",
    "b = tf.Variable(initial_value=0.0)"
   ]
  },
  {
   "cell_type": "code",
   "execution_count": 6,
   "metadata": {
    "scrolled": true
   },
   "outputs": [
    {
     "name": "stdout",
     "output_type": "stream",
     "text": [
      "tf.Tensor(1417.03, shape=(), dtype=float32)\n",
      "tf.Tensor(1164.4528, shape=(), dtype=float32)\n",
      "tf.Tensor(959.0232, shape=(), dtype=float32)\n",
      "tf.Tensor(791.78577, shape=(), dtype=float32)\n",
      "tf.Tensor(655.4969, shape=(), dtype=float32)\n",
      "tf.Tensor(544.2967, shape=(), dtype=float32)\n",
      "tf.Tensor(453.4443, shape=(), dtype=float32)\n",
      "tf.Tensor(379.10312, shape=(), dtype=float32)\n",
      "tf.Tensor(318.16803, shape=(), dtype=float32)\n",
      "tf.Tensor(268.1253, shape=(), dtype=float32)\n",
      "tf.Tensor(226.93948, shape=(), dtype=float32)\n",
      "tf.Tensor(192.9618, shape=(), dtype=float32)\n",
      "tf.Tensor(164.85643, shape=(), dtype=float32)\n",
      "tf.Tensor(141.5406, shape=(), dtype=float32)\n",
      "tf.Tensor(122.13624, shape=(), dtype=float32)\n",
      "tf.Tensor(105.93097, shape=(), dtype=float32)\n",
      "tf.Tensor(92.346466, shape=(), dtype=float32)\n",
      "tf.Tensor(80.91299, shape=(), dtype=float32)\n",
      "tf.Tensor(71.24862, shape=(), dtype=float32)\n",
      "tf.Tensor(63.04268, shape=(), dtype=float32)\n",
      "tf.Tensor(56.04212, shape=(), dtype=float32)\n",
      "tf.Tensor(50.040604, shape=(), dtype=float32)\n",
      "tf.Tensor(44.869743, shape=(), dtype=float32)\n",
      "tf.Tensor(40.391804, shape=(), dtype=float32)\n",
      "tf.Tensor(36.494102, shape=(), dtype=float32)\n",
      "tf.Tensor(33.084145, shape=(), dtype=float32)\n",
      "tf.Tensor(30.0859, shape=(), dtype=float32)\n",
      "tf.Tensor(27.436779, shape=(), dtype=float32)\n",
      "tf.Tensor(25.085064, shape=(), dtype=float32)\n",
      "tf.Tensor(22.987932, shape=(), dtype=float32)\n",
      "tf.Tensor(21.10982, shape=(), dtype=float32)\n",
      "tf.Tensor(19.421085, shape=(), dtype=float32)\n",
      "tf.Tensor(17.896944, shape=(), dtype=float32)\n",
      "tf.Tensor(16.516571, shape=(), dtype=float32)\n",
      "tf.Tensor(15.262426, shape=(), dtype=float32)\n",
      "tf.Tensor(14.119648, shape=(), dtype=float32)\n",
      "tf.Tensor(13.0756, shape=(), dtype=float32)\n",
      "tf.Tensor(12.119466, shape=(), dtype=float32)\n",
      "tf.Tensor(11.241975, shape=(), dtype=float32)\n",
      "tf.Tensor(10.435113, shape=(), dtype=float32)\n",
      "tf.Tensor(9.691921, shape=(), dtype=float32)\n",
      "tf.Tensor(9.006343, shape=(), dtype=float32)\n",
      "tf.Tensor(8.3730545, shape=(), dtype=float32)\n",
      "tf.Tensor(7.7873797, shape=(), dtype=float32)\n",
      "tf.Tensor(7.2451696, shape=(), dtype=float32)\n",
      "tf.Tensor(6.7427335, shape=(), dtype=float32)\n",
      "tf.Tensor(6.2767773, shape=(), dtype=float32)\n",
      "tf.Tensor(5.844348, shape=(), dtype=float32)\n",
      "tf.Tensor(5.4427853, shape=(), dtype=float32)\n",
      "tf.Tensor(5.0696855, shape=(), dtype=float32)\n",
      "tf.Tensor(4.7228613, shape=(), dtype=float32)\n",
      "tf.Tensor(4.400334, shape=(), dtype=float32)\n",
      "tf.Tensor(4.1002927, shape=(), dtype=float32)\n",
      "tf.Tensor(3.8210835, shape=(), dtype=float32)\n",
      "tf.Tensor(3.561188, shape=(), dtype=float32)\n",
      "tf.Tensor(3.3192143, shape=(), dtype=float32)\n",
      "tf.Tensor(3.0938778, shape=(), dtype=float32)\n",
      "tf.Tensor(2.884, shape=(), dtype=float32)\n",
      "tf.Tensor(2.6884866, shape=(), dtype=float32)\n",
      "tf.Tensor(2.5063338, shape=(), dtype=float32)\n",
      "tf.Tensor(2.336605, shape=(), dtype=float32)\n",
      "tf.Tensor(2.178439, shape=(), dtype=float32)\n",
      "tf.Tensor(2.0310326, shape=(), dtype=float32)\n",
      "tf.Tensor(1.8936467, shape=(), dtype=float32)\n",
      "tf.Tensor(1.7655898, shape=(), dtype=float32)\n",
      "tf.Tensor(1.6462226, shape=(), dtype=float32)\n",
      "tf.Tensor(1.5349478, shape=(), dtype=float32)\n",
      "tf.Tensor(1.4312131, shape=(), dtype=float32)\n",
      "tf.Tensor(1.3345063, shape=(), dtype=float32)\n",
      "tf.Tensor(1.2443447, shape=(), dtype=float32)\n",
      "tf.Tensor(1.1602858, shape=(), dtype=float32)\n",
      "tf.Tensor(1.0819129, shape=(), dtype=float32)\n",
      "tf.Tensor(1.0088391, shape=(), dtype=float32)\n",
      "tf.Tensor(0.94070756, shape=(), dtype=float32)\n",
      "tf.Tensor(0.87718207, shape=(), dtype=float32)\n",
      "tf.Tensor(0.817949, shape=(), dtype=float32)\n",
      "tf.Tensor(0.7627186, shape=(), dtype=float32)\n",
      "tf.Tensor(0.71121883, shape=(), dtype=float32)\n",
      "tf.Tensor(0.6631995, shape=(), dtype=float32)\n",
      "tf.Tensor(0.6184229, shape=(), dtype=float32)\n",
      "tf.Tensor(0.57667035, shape=(), dtype=float32)\n",
      "tf.Tensor(0.5377382, shape=(), dtype=float32)\n",
      "tf.Tensor(0.5014363, shape=(), dtype=float32)\n",
      "tf.Tensor(0.46758515, shape=(), dtype=float32)\n",
      "tf.Tensor(0.43601933, shape=(), dtype=float32)\n",
      "tf.Tensor(0.40658495, shape=(), dtype=float32)\n",
      "tf.Tensor(0.37913755, shape=(), dtype=float32)\n",
      "tf.Tensor(0.3535431, shape=(), dtype=float32)\n",
      "tf.Tensor(0.32967678, shape=(), dtype=float32)\n",
      "tf.Tensor(0.30742204, shape=(), dtype=float32)\n",
      "tf.Tensor(0.28667042, shape=(), dtype=float32)\n",
      "tf.Tensor(0.26731884, shape=(), dtype=float32)\n",
      "tf.Tensor(0.24927357, shape=(), dtype=float32)\n",
      "tf.Tensor(0.2324472, shape=(), dtype=float32)\n",
      "tf.Tensor(0.21675694, shape=(), dtype=float32)\n",
      "tf.Tensor(0.2021254, shape=(), dtype=float32)\n",
      "tf.Tensor(0.18848184, shape=(), dtype=float32)\n",
      "tf.Tensor(0.17575857, shape=(), dtype=float32)\n",
      "tf.Tensor(0.16389489, shape=(), dtype=float32)\n",
      "tf.Tensor(0.15283194, shape=(), dtype=float32)\n"
     ]
    }
   ],
   "source": [
    "optimizer = tf.keras.optimizers.SGD(learning_rate=1e-3)\n",
    "for i in range(100):\n",
    "    with tf.GradientTape() as tape:\n",
    "        y_pred = w * X + b\n",
    "        loss = 0.5 * tf.reduce_sum(tf.square(y_pred-Y))\n",
    "    print(loss)\n",
    "    grads = tape.gradient(loss,[w,b])\n",
    "    optimizer.apply_gradients(grads_and_vars=zip(grads, [w,b]))"
   ]
  },
  {
   "cell_type": "code",
   "execution_count": 7,
   "metadata": {},
   "outputs": [
    {
     "name": "stdout",
     "output_type": "stream",
     "text": [
      "<tf.Variable 'Variable:0' shape=() dtype=float32, numpy=2.9088945> <tf.Variable 'Variable:0' shape=() dtype=float32, numpy=4.9998813>\n"
     ]
    }
   ],
   "source": [
    "print(w,b)"
   ]
  },
  {
   "cell_type": "code",
   "execution_count": null,
   "metadata": {},
   "outputs": [],
   "source": []
  },
  {
   "cell_type": "code",
   "execution_count": null,
   "metadata": {},
   "outputs": [],
   "source": []
  }
 ],
 "metadata": {
  "kernelspec": {
   "display_name": "Python 3",
   "language": "python",
   "name": "python3"
  },
  "language_info": {
   "codemirror_mode": {
    "name": "ipython",
    "version": 3
   },
   "file_extension": ".py",
   "mimetype": "text/x-python",
   "name": "python",
   "nbconvert_exporter": "python",
   "pygments_lexer": "ipython3",
   "version": "3.7.6"
  }
 },
 "nbformat": 4,
 "nbformat_minor": 4
}
