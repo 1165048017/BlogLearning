{
 "cells": [
  {
   "cell_type": "code",
   "execution_count": 1,
   "metadata": {},
   "outputs": [],
   "source": [
    "import numpy as np\n",
    "import cv2\n",
    "import matplotlib.pyplot as plt\n",
    "\n",
    "np.set_printoptions(suppress=True,threshold=None)"
   ]
  },
  {
   "cell_type": "markdown",
   "metadata": {},
   "source": [
    "## Read OBJ\n",
    "vertices/faces/uv"
   ]
  },
  {
   "cell_type": "code",
   "execution_count": 2,
   "metadata": {},
   "outputs": [],
   "source": [
    "filename = '091_W_Aya_10K.obj'\n",
    "vertices = []\n",
    "vertex_norm = []\n",
    "vertex_tex = []\n",
    "triangles = []\n",
    "texcoords = []\n",
    "for line in open(filename, \"r\"):\n",
    "    values = line.split()\n",
    "    if(values==[]):\n",
    "        continue\n",
    "    if(values=='#'):\n",
    "        continue\n",
    "    if(values[0]=='v'):\n",
    "        vertices.append([float(values[1]),float(values[2]),float(values[3])])\n",
    "    if(values[0]=='vn'):\n",
    "        vertex_norm.append([float(values[1]),float(values[2]),float(values[3])])\n",
    "    if(values[0]=='vt'):\n",
    "        vertex_tex.append([float(values[1]),float(values[2]),float(values[3])])\n",
    "    if(values[0]=='f'):\n",
    "        face=[]\n",
    "        texcoord = []\n",
    "        norm = []\n",
    "        for v in values[1:]:\n",
    "            w = v.split('/')\n",
    "            face.append(int(w[0]))\n",
    "            if(len(w)>=2 and len(w[1])>0):\n",
    "                texcoord.append(int(w[1]))\n",
    "            else:\n",
    "                texcoord.append(-1)\n",
    "            if(len(w)>=3 and len(w[2])>0):\n",
    "                norm.append(int(w[2]))\n",
    "            else:\n",
    "                norm.append(-1)\n",
    "        triangles.append(face)\n",
    "        texcoords.append(texcoord)"
   ]
  },
  {
   "cell_type": "code",
   "execution_count": 3,
   "metadata": {},
   "outputs": [],
   "source": [
    "vertices = np.array(vertices,np.float32)\n",
    "vertices = vertices-np.min(vertices)\n",
    "vertices[...,1] = np.max(vertices[...,1]) - vertices[...,1] #顶点\n",
    "triangles = np.array(triangles,np.int)-1 # 三角面片中顶点索引\n",
    "texcoords=np.array(texcoords,np.int)-1 # 三角面片中纹理坐标索引\n",
    "vertex_tex = np.array(vertex_tex,np.float32) # 纹理坐标"
   ]
  },
  {
   "cell_type": "code",
   "execution_count": 4,
   "metadata": {},
   "outputs": [
    {
     "name": "stdout",
     "output_type": "stream",
     "text": [
      "(10000, 3) (10000, 3) (6720, 3)\n"
     ]
    }
   ],
   "source": [
    "print(triangles.shape,texcoords.shape,vertex_tex.shape)"
   ]
  },
  {
   "cell_type": "code",
   "execution_count": 5,
   "metadata": {},
   "outputs": [],
   "source": [
    "uv_map = cv2.imread(\"./tex/091_W_Aya_2K_01.jpg\")\n",
    "uv_map = uv_map.astype('float32')\n",
    "height = uv_map.shape[0]\n",
    "width = uv_map.shape[1]"
   ]
  },
  {
   "cell_type": "code",
   "execution_count": 6,
   "metadata": {
    "scrolled": false
   },
   "outputs": [
    {
     "name": "stdout",
     "output_type": "stream",
     "text": [
      "process: 0\n",
      "process: 1000\n",
      "process: 2000\n",
      "process: 3000\n",
      "process: 4000\n",
      "process: 5000\n",
      "process: 6000\n",
      "process: 7000\n",
      "process: 8000\n",
      "process: 9000\n"
     ]
    },
    {
     "data": {
      "text/plain": [
       "True"
      ]
     },
     "execution_count": 6,
     "metadata": {},
     "output_type": "execute_result"
    }
   ],
   "source": [
    "render_width = int(np.ceil(np.max(vertices[...,0])))\n",
    "render_height = int(np.ceil(np.max(vertices[...,1])))\n",
    "render_img = np.zeros((render_height,render_width,3),dtype=np.uint8)\n",
    "depth = np.zeros((render_height,render_width),dtype=np.float32)\n",
    "depth = depth-9999\n",
    "for i in range(triangles.shape[0]):\n",
    "    if(i%1000==0):\n",
    "        print(\"process:\",i)\n",
    "    # get uv texture map triangle\n",
    "    triangle_uv = np.float32([[vertex_tex[texcoords[i][0]][0]*height,(1-vertex_tex[texcoords[i][0]][1])*width],\n",
    "                             [vertex_tex[texcoords[i][1]][0]*height,(1-vertex_tex[texcoords[i][1]][1])*width],\n",
    "                             [vertex_tex[texcoords[i][2]][0]*height,(1-vertex_tex[texcoords[i][2]][1])*width]])\n",
    "    #get corresponding triangle in 3D face model\n",
    "    triangle_3d = np.float32([[vertices[triangles[i][0]][0],vertices[triangles[i][0]][1]],\n",
    "                             [vertices[triangles[i][1]][0],vertices[triangles[i][1]][1]],\n",
    "                             [vertices[triangles[i][2]][0],vertices[triangles[i][2]][1]]])\n",
    "    # get affine transform matrix\n",
    "    warp_mat = cv2.getAffineTransform(triangle_uv,triangle_3d)\n",
    "    dst = cv2.warpAffine(uv_map,warp_mat,(height,width))\n",
    "\n",
    "    # get draw mask\n",
    "    mask = np.zeros((height,width,3),dtype=np.uint8)\n",
    "    cv2.drawContours(mask,[triangle_3d[np.newaxis,...].astype(np.int)],-1,(255,255,255),-1)    \n",
    "\n",
    "    # judge depth\n",
    "    mask_idx = np.argwhere(mask[...,0]==255)\n",
    "    curr_depth = (vertices[triangles[i][0]][2]+vertices[triangles[i][1]][2]+vertices[triangles[i][2]][2])/3  \n",
    "\n",
    "    # render with triangles put the mask image to final result image using opencv\n",
    "    # render_img = cv2.copyTo(dst,mask,render_img)\n",
    "\n",
    "    # render with pixel wise\n",
    "    for idx in range(mask_idx.shape[0]):\n",
    "        x = mask_idx[idx,0]\n",
    "        y = mask_idx[idx,1]\n",
    "        if(curr_depth>=depth[x,y]):\n",
    "            render_img[x,y] = dst[x,y]\n",
    "            depth[x,y] = curr_depth \n",
    "    \n",
    "cv2.imwrite(\"test.jpg\",render_img)"
   ]
  },
  {
   "cell_type": "code",
   "execution_count": null,
   "metadata": {},
   "outputs": [],
   "source": []
  }
 ],
 "metadata": {
  "kernelspec": {
   "display_name": "Python 3",
   "language": "python",
   "name": "python3"
  },
  "language_info": {
   "codemirror_mode": {
    "name": "ipython",
    "version": 3
   },
   "file_extension": ".py",
   "mimetype": "text/x-python",
   "name": "python",
   "nbconvert_exporter": "python",
   "pygments_lexer": "ipython3",
   "version": "3.7.6"
  }
 },
 "nbformat": 4,
 "nbformat_minor": 4
}
