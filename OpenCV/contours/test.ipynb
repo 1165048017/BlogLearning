{
 "cells": [
  {
   "cell_type": "code",
   "execution_count": 1,
   "metadata": {},
   "outputs": [],
   "source": [
    "import cv2\n",
    "import numpy as np\n",
    "\n",
    "import matplotlib.pyplot as plt"
   ]
  },
  {
   "cell_type": "code",
   "execution_count": 2,
   "metadata": {},
   "outputs": [],
   "source": [
    "img =cv2.imread(\"blackBG.jpg\")"
   ]
  },
  {
   "cell_type": "code",
   "execution_count": 3,
   "metadata": {},
   "outputs": [],
   "source": [
    "# 颜色表：红橙黄绿青蓝紫灰\n",
    "colormap = [(0,0,255),(0,165,255),(0,255,255),(0,255,0),(255,255,0),(255,0,0),(238,130,238),(190,190,190)]"
   ]
  },
  {
   "cell_type": "code",
   "execution_count": 4,
   "metadata": {},
   "outputs": [],
   "source": [
    "# grayscale \n",
    "# https://docs.opencv.org/4.5.0/d7/d4d/tutorial_py_thresholding.html\n",
    "gray_img = cv2.cvtColor(img,cv2.COLOR_BGR2GRAY)\n",
    "ret,bin_img = cv2.threshold(gray_img,0,255,cv2.THRESH_BINARY+cv2.THRESH_OTSU)"
   ]
  },
  {
   "cell_type": "code",
   "execution_count": 5,
   "metadata": {},
   "outputs": [
    {
     "name": "stdout",
     "output_type": "stream",
     "text": [
      "[[[ 1 -1 -1 -1]\n",
      "  [ 2  0 -1 -1]\n",
      "  [-1  1 -1 -1]]]\n"
     ]
    },
    {
     "data": {
      "image/png": "[encoded data removed]",
      "text/plain": [
       "<Figure size 432x288 with 1 Axes>"
      ]
     },
     "metadata": {
      "needs_background": "light"
     },
     "output_type": "display_data"
    }
   ],
   "source": [
    "# RETR_EXTERNAL:仅外圈轮廓\n",
    "contours, hierarchy = cv2.findContours(bin_img, cv2.RETR_EXTERNAL, cv2.CHAIN_APPROX_SIMPLE)\n",
    "\n",
    "img_show = img.copy()\n",
    "cv2.drawContours(img_show,contours,-1,(0,255,0),5)\n",
    "plt.imshow(img_show[...,::-1])\n",
    "plt.axis('off')\n",
    "\n",
    "print(hierarchy)"
   ]
  },
  {
   "cell_type": "code",
   "execution_count": 6,
   "metadata": {},
   "outputs": [
    {
     "data": {
      "text/plain": [
       "[array([[[ 50, 253]],\n",
       " \n",
       "        [[ 50, 831]],\n",
       " \n",
       "        [[930, 831]],\n",
       " \n",
       "        [[930, 253]]], dtype=int32),\n",
       " array([[[342, 162]],\n",
       " \n",
       "        [[342, 185]],\n",
       " \n",
       "        [[916, 185]],\n",
       " \n",
       "        [[916, 162]]], dtype=int32),\n",
       " array([[[ 90,  84]],\n",
       " \n",
       "        [[ 90, 101]],\n",
       " \n",
       "        [[244, 101]],\n",
       " \n",
       "        [[244,  84]]], dtype=int32)]"
      ]
     },
     "execution_count": 6,
     "metadata": {},
     "output_type": "execute_result"
    }
   ],
   "source": [
    "contours"
   ]
  },
  {
   "cell_type": "code",
   "execution_count": 6,
   "metadata": {
    "scrolled": false
   },
   "outputs": [
    {
     "name": "stdout",
     "output_type": "stream",
     "text": [
      "[[[ 1 -1 -1 -1]\n",
      "  [ 2  0 -1 -1]\n",
      "  [ 3  1 -1 -1]\n",
      "  [ 4  2 -1 -1]\n",
      "  [ 5  3 -1 -1]\n",
      "  [ 6  4 -1 -1]\n",
      "  [ 7  5 -1 -1]\n",
      "  [-1  6 -1 -1]]]\n"
     ]
    },
    {
     "data": {
      "image/png": "[encoded data removed]",
      "text/plain": [
       "<Figure size 432x288 with 1 Axes>"
      ]
     },
     "metadata": {
      "needs_background": "light"
     },
     "output_type": "display_data"
    }
   ],
   "source": [
    "# RETR_EXTERNAL:全部轮廓，无层级关系\n",
    "contours, hierarchy = cv2.findContours(bin_img, cv2.RETR_LIST, cv2.CHAIN_APPROX_SIMPLE)\n",
    "\n",
    "img_show = img.copy()\n",
    "cv2.drawContours(img_show,contours,-1,(0,255,0),5)\n",
    "plt.imshow(img_show[...,::-1])\n",
    "plt.axis('off')\n",
    "\n",
    "print(hierarchy)"
   ]
  },
  {
   "cell_type": "code",
   "execution_count": 7,
   "metadata": {},
   "outputs": [
    {
     "data": {
      "text/plain": [
       "(1, 8, 4)"
      ]
     },
     "execution_count": 7,
     "metadata": {},
     "output_type": "execute_result"
    }
   ],
   "source": [
    "hierarchy.shape"
   ]
  },
  {
   "cell_type": "code",
   "execution_count": 8,
   "metadata": {
    "scrolled": false
   },
   "outputs": [
    {
     "name": "stdout",
     "output_type": "stream",
     "text": [
      "[[[ 1 -1 -1 -1]\n",
      "  [ 2  0 -1 -1]\n",
      "  [ 4  1  3 -1]\n",
      "  [-1 -1 -1  2]\n",
      "  [ 6  2  5 -1]\n",
      "  [-1 -1 -1  4]\n",
      "  [ 7  4 -1 -1]\n",
      "  [-1  6 -1 -1]]]\n"
     ]
    },
    {
     "data": {
      "image/png": "[encoded data removed]",
      "text/plain": [
       "<Figure size 432x288 with 1 Axes>"
      ]
     },
     "metadata": {
      "needs_background": "light"
     },
     "output_type": "display_data"
    }
   ],
   "source": [
    "# RETR_CCOMP:全部轮廓，只有两种层级关系\n",
    "contours, hierarchy = cv2.findContours(bin_img, cv2.RETR_CCOMP, cv2.CHAIN_APPROX_SIMPLE)\n",
    "\n",
    "img_show = img.copy()\n",
    "for i in range(len(contours)):\n",
    "    if(hierarchy[0,i,3]!=-1):\n",
    "        cv2.drawContours(img_show,contours,i,colormap[i],5)\n",
    "        cv2.drawContours(img_show,contours,hierarchy[0,i,3],colormap[i],5)\n",
    "plt.imshow(img_show[...,::-1])\n",
    "plt.axis('off')\n",
    "\n",
    "print(hierarchy)\n",
    "# 红:0  橙;1  黄:2  绿:3  青:4  蓝:5  紫:6  灰:7"
   ]
  },
  {
   "cell_type": "code",
   "execution_count": 9,
   "metadata": {},
   "outputs": [
    {
     "name": "stdout",
     "output_type": "stream",
     "text": [
      "[[[ 6 -1  1 -1]\n",
      "  [-1 -1  2  0]\n",
      "  [-1 -1  3  1]\n",
      "  [-1 -1  4  2]\n",
      "  [ 5 -1 -1  3]\n",
      "  [-1  4 -1  3]\n",
      "  [ 7  0 -1 -1]\n",
      "  [-1  6 -1 -1]]]\n"
     ]
    },
    {
     "data": {
      "image/png": "[encoded data removed]",
      "text/plain": [
       "<Figure size 432x288 with 1 Axes>"
      ]
     },
     "metadata": {
      "needs_background": "light"
     },
     "output_type": "display_data"
    }
   ],
   "source": [
    "# RetrievalModes:https://docs.opencv.org/4.5.0/d3/dc0/group__imgproc__shape.html#ga819779b9857cc2f8601e6526a3a5bc71\n",
    "#ContourApproximationModes:https://docs.opencv.org/4.5.0/d3/dc0/group__imgproc__shape.html#ga4303f45752694956374734a03c54d5ff\n",
    "contours, hierarchy = cv2.findContours(bin_img, cv2.RETR_TREE, cv2.CHAIN_APPROX_SIMPLE)\n",
    "\n",
    "img_show = img.copy()\n",
    "for i in range(len(contours)):\n",
    "    cv2.drawContours(img_show,contours,i,colormap[hierarchy[0,i,3]+1],5)\n",
    "plt.imshow(img_show[...,::-1])\n",
    "plt.axis('off')\n",
    "\n",
    "print(hierarchy)\n",
    "# 红:0  橙;1  黄:2  绿:3  青:4  蓝:5  紫:6  灰:7"
   ]
  },
  {
   "cell_type": "code",
   "execution_count": 10,
   "metadata": {
    "scrolled": false
   },
   "outputs": [
    {
     "data": {
      "text/plain": [
       "<matplotlib.image.AxesImage at 0x16e207e2108>"
      ]
     },
     "execution_count": 10,
     "metadata": {},
     "output_type": "execute_result"
    },
    {
     "data": {
      "image/png": "[encoded data removed]",
      "text/plain": [
       "<Figure size 432x288 with 1 Axes>"
      ]
     },
     "metadata": {
      "needs_background": "light"
     },
     "output_type": "display_data"
    }
   ],
   "source": [
    "contours, hierarchy = cv2.findContours(bin_img, cv2.RETR_TREE, cv2.CHAIN_APPROX_SIMPLE)\n",
    "img_show = img.copy()\n",
    "cnt_idx = 0\n",
    "cnt = contours[cnt_idx]\n",
    "for i in range(cnt.shape[0]):\n",
    "    cv2.circle(img_show,(cnt[i,0,0],cnt[i,0,1]),5,(0,255,0),5)\n",
    "plt.imshow(img_show[...,::-1])"
   ]
  },
  {
   "cell_type": "code",
   "execution_count": 11,
   "metadata": {
    "scrolled": false
   },
   "outputs": [
    {
     "data": {
      "text/plain": [
       "<matplotlib.image.AxesImage at 0x16e20857888>"
      ]
     },
     "execution_count": 11,
     "metadata": {},
     "output_type": "execute_result"
    },
    {
     "data": {
      "image/png": "[encoded data removed]",
      "text/plain": [
       "<Figure size 432x288 with 1 Axes>"
      ]
     },
     "metadata": {
      "needs_background": "light"
     },
     "output_type": "display_data"
    }
   ],
   "source": [
    "contours, hierarchy = cv2.findContours(bin_img, cv2.RETR_TREE, cv2.CHAIN_APPROX_NONE)\n",
    "img_show = img.copy()\n",
    "cnt_idx = 0\n",
    "cnt = contours[cnt_idx]\n",
    "for i in range(cnt.shape[0]):\n",
    "    cv2.circle(img_show,(cnt[i,0,0],cnt[i,0,1]),5,(0,255,0),5)\n",
    "plt.imshow(img_show[...,::-1])"
   ]
  },
  {
   "cell_type": "markdown",
   "metadata": {},
   "source": [
    "## 多边形逼近"
   ]
  },
  {
   "cell_type": "code",
   "execution_count": 12,
   "metadata": {},
   "outputs": [
    {
     "name": "stdout",
     "output_type": "stream",
     "text": [
      "False\n"
     ]
    },
    {
     "data": {
      "image/png": "[encoded data removed]",
      "text/plain": [
       "<Figure size 432x288 with 1 Axes>"
      ]
     },
     "metadata": {
      "needs_background": "light"
     },
     "output_type": "display_data"
    }
   ],
   "source": [
    "contours, hierarchy = cv2.findContours(bin_img, cv2.RETR_TREE, cv2.CHAIN_APPROX_SIMPLE)\n",
    "img_show = img.copy()\n",
    "cnt_idx = 4\n",
    "cnt = contours[cnt_idx]\n",
    "for i in range(cnt.shape[0]):\n",
    "    cv2.circle(img_show,(cnt[i,0,0],cnt[i,0,1]),5,(0,255,0),5)\n",
    "\n",
    "epsilon = 0.01*cv2.arcLength(cnt,True)\n",
    "approx = cv2.approxPolyDP(cnt,epsilon,True)\n",
    "for i in range(approx.shape[0]):\n",
    "    cv2.circle(img_show,(approx[i,0,0],approx[i,0,1]),5,(0,0,255),5)\n",
    "\n",
    "plt.imshow(img_show[...,::-1])\n",
    "plt.axis('off')\n",
    "\n",
    "print(cv2.isContourConvex(approx))"
   ]
  },
  {
   "cell_type": "markdown",
   "metadata": {},
   "source": [
    "## 凸多边形逼近"
   ]
  },
  {
   "cell_type": "code",
   "execution_count": 13,
   "metadata": {},
   "outputs": [
    {
     "name": "stdout",
     "output_type": "stream",
     "text": [
      "True\n"
     ]
    },
    {
     "data": {
      "image/png": "[encoded data removed]",
      "text/plain": [
       "<Figure size 432x288 with 1 Axes>"
      ]
     },
     "metadata": {
      "needs_background": "light"
     },
     "output_type": "display_data"
    }
   ],
   "source": [
    "contours, hierarchy = cv2.findContours(bin_img, cv2.RETR_TREE, cv2.CHAIN_APPROX_SIMPLE)\n",
    "img_show = img.copy()\n",
    "cnt_idx = 4\n",
    "cnt = contours[cnt_idx]\n",
    "for i in range(cnt.shape[0]):\n",
    "    cv2.circle(img_show,(cnt[i,0,0],cnt[i,0,1]),5,(0,255,0),5)\n",
    "\n",
    "approx = cv2.convexHull(cnt)\n",
    "for i in range(approx.shape[0]):\n",
    "    cv2.circle(img_show,(approx[i,0,0],approx[i,0,1]),5,(0,0,255),5)\n",
    "\n",
    "plt.imshow(img_show[...,::-1])\n",
    "plt.axis('off')\n",
    "print(cv2.isContourConvex(approx))"
   ]
  },
  {
   "cell_type": "code",
   "execution_count": 14,
   "metadata": {},
   "outputs": [
    {
     "data": {
      "text/plain": [
       "(-0.5, 972.5, 917.5, -0.5)"
      ]
     },
     "execution_count": 14,
     "metadata": {},
     "output_type": "execute_result"
    },
    {
     "data": {
      "image/png": "[encoded data removed]",
      "text/plain": [
       "<Figure size 432x288 with 1 Axes>"
      ]
     },
     "metadata": {
      "needs_background": "light"
     },
     "output_type": "display_data"
    }
   ],
   "source": [
    "contours, hierarchy = cv2.findContours(bin_img, cv2.RETR_TREE, cv2.CHAIN_APPROX_NONE)\n",
    "cnt_idx = 4\n",
    "cnt = contours[cnt_idx]\n",
    "approx = cv2.convexHull(cnt,returnPoints=False)\n",
    "defect = cv2.convexityDefects(cnt,approx)\n",
    "\n",
    "img_show = img.copy()\n",
    "for i in range(defect.shape[0]):\n",
    "    pos_idx = defect[i,0,2]\n",
    "    cv2.circle(img_show,(cnt[pos_idx,0,0],cnt[pos_idx,0,1]),5,(0,255,0),5)\n",
    "plt.imshow(img_show[...,::-1])\n",
    "plt.axis('off')"
   ]
  },
  {
   "cell_type": "markdown",
   "metadata": {},
   "source": [
    "# 边界框"
   ]
  },
  {
   "cell_type": "code",
   "execution_count": 15,
   "metadata": {
    "scrolled": true
   },
   "outputs": [
    {
     "data": {
      "text/plain": [
       "(-0.5, 972.5, 917.5, -0.5)"
      ]
     },
     "execution_count": 15,
     "metadata": {},
     "output_type": "execute_result"
    },
    {
     "data": {
      "image/png": "[encoded data removed]",
      "text/plain": [
       "<Figure size 432x288 with 1 Axes>"
      ]
     },
     "metadata": {
      "needs_background": "light"
     },
     "output_type": "display_data"
    }
   ],
   "source": [
    "img_show = img.copy()\n",
    "#无旋转矩形\n",
    "x,y,w,h = cv2.boundingRect(cnt)\n",
    "cv2.rectangle(img_show,(x,y),(x+w,y+h),(0,255,0),10)\n",
    "#有旋转矩形\n",
    "rect = cv2.minAreaRect(cnt)\n",
    "box = cv2.boxPoints(rect)\n",
    "box = np.int0(box)\n",
    "cv2.drawContours(img_show,[box],0,(0,0,255),10)\n",
    "\n",
    "plt.imshow(img_show[...,::-1])\n",
    "plt.axis('off')"
   ]
  },
  {
   "cell_type": "code",
   "execution_count": 16,
   "metadata": {},
   "outputs": [
    {
     "data": {
      "text/plain": [
       "(-0.5, 972.5, 917.5, -0.5)"
      ]
     },
     "execution_count": 16,
     "metadata": {},
     "output_type": "execute_result"
    },
    {
     "data": {
      "image/png": "[encoded data removed]",
      "text/plain": [
       "<Figure size 432x288 with 1 Axes>"
      ]
     },
     "metadata": {
      "needs_background": "light"
     },
     "output_type": "display_data"
    }
   ],
   "source": [
    "# 最小外接圆\n",
    "(x,y),radius = cv2.minEnclosingCircle(cnt)\n",
    "center = (int(x),int(y))\n",
    "radius = int(radius)\n",
    "\n",
    "img_show = img.copy()\n",
    "cv2.circle(img_show,center,radius,(0,255,0),10)\n",
    "plt.imshow(img_show[...,::-1])\n",
    "plt.axis('off')"
   ]
  },
  {
   "cell_type": "code",
   "execution_count": 17,
   "metadata": {},
   "outputs": [
    {
     "data": {
      "text/plain": [
       "(-0.5, 972.5, 917.5, -0.5)"
      ]
     },
     "execution_count": 17,
     "metadata": {},
     "output_type": "execute_result"
    },
    {
     "data": {
      "image/png": "[encoded data removed]",
      "text/plain": [
       "<Figure size 432x288 with 1 Axes>"
      ]
     },
     "metadata": {
      "needs_background": "light"
     },
     "output_type": "display_data"
    }
   ],
   "source": [
    "# 椭圆拟合\n",
    "ellipse = cv2.fitEllipse(contours[5])\n",
    "\n",
    "img_show = img.copy()\n",
    "cv2.ellipse(img_show,ellipse,(0,255,0),10)\n",
    "plt.imshow(img_show[...,::-1])\n",
    "plt.axis('off')"
   ]
  },
  {
   "cell_type": "code",
   "execution_count": 18,
   "metadata": {},
   "outputs": [
    {
     "data": {
      "text/plain": [
       "(-0.5, 972.5, 917.5, -0.5)"
      ]
     },
     "execution_count": 18,
     "metadata": {},
     "output_type": "execute_result"
    },
    {
     "data": {
      "image/png": "[encoded data removed]",
      "text/plain": [
       "<Figure size 432x288 with 1 Axes>"
      ]
     },
     "metadata": {
      "needs_background": "light"
     },
     "output_type": "display_data"
    }
   ],
   "source": [
    "rows,cols = img.shape[:2]\n",
    "[vx,vy,x,y] = cv2.fitLine(cnt, cv2.DIST_L2,0,0.01,0.01)\n",
    "lefty = int((-x*vy/vx) + y)\n",
    "righty = int(((cols-x)*vy/vx)+y)\n",
    "\n",
    "img_show = img.copy()\n",
    "cv2.line(img_show,(cols-1,righty),(0,lefty),(0,255,0),2)\n",
    "plt.imshow(img_show[...,::-1])\n",
    "plt.axis('off')"
   ]
  },
  {
   "cell_type": "code",
   "execution_count": 24,
   "metadata": {},
   "outputs": [
    {
     "data": {
      "text/plain": [
       "(-0.5, 972.5, 917.5, -0.5)"
      ]
     },
     "execution_count": 24,
     "metadata": {},
     "output_type": "execute_result"
    },
    {
     "data": {
      "image/png": "[encoded data removed]",
      "text/plain": [
       "<Figure size 432x288 with 1 Axes>"
      ]
     },
     "metadata": {
      "needs_background": "light"
     },
     "output_type": "display_data"
    }
   ],
   "source": [
    "mask = np.zeros(gray_img.shape,np.uint8)\n",
    "cv2.drawContours(mask,[cnt],0,255,-1)\n",
    "pixelpoints = np.transpose(np.nonzero(mask))\n",
    "#pixelpoints = cv.findNonZero(mask)\n",
    "plt.imshow(mask,cmap='gray')\n",
    "plt.axis('off')"
   ]
  },
  {
   "cell_type": "markdown",
   "metadata": {},
   "source": [
    "## 形状匹配"
   ]
  },
  {
   "cell_type": "code",
   "execution_count": 31,
   "metadata": {
    "scrolled": true
   },
   "outputs": [
    {
     "name": "stdout",
     "output_type": "stream",
     "text": [
      "0.14475720763533126 0.3168697153308031\n"
     ]
    },
    {
     "data": {
      "text/plain": [
       "(-0.5, 139.5, 134.5, -0.5)"
      ]
     },
     "execution_count": 31,
     "metadata": {},
     "output_type": "execute_result"
    },
    {
     "data": {
      "image/png": "[encoded data removed]",
      "text/plain": [
       "<Figure size 432x288 with 3 Axes>"
      ]
     },
     "metadata": {
      "needs_background": "light"
     },
     "output_type": "display_data"
    }
   ],
   "source": [
    "img1 = cv2.imread('shape1.png',0)\n",
    "img2 = cv2.imread('shape2.png',0)\n",
    "img3 = cv2.imread('shape3.png',0)\n",
    "ret, thresh = cv2.threshold(img1, 127, 255,0)\n",
    "ret, thresh2 = cv2.threshold(img2, 127, 255,0)\n",
    "ret, thresh3 = cv2.threshold(img3, 127, 255,0)\n",
    "contours,hierarchy = cv2.findContours(thresh,2,1)\n",
    "cnt1 = contours[0]\n",
    "contours,hierarchy = cv2.findContours(thresh2,2,1)\n",
    "cnt2 = contours[0]\n",
    "contours,hierarchy = cv2.findContours(thresh3,2,1)\n",
    "cnt3 = contours[0]\n",
    "ret1 = cv2.matchShapes(cnt1,cnt2,1,0.0)\n",
    "ret2 = cv2.matchShapes(cnt1,cnt3,1,0.0)\n",
    "print( ret1,ret2 )\n",
    "plt.subplot(131)\n",
    "plt.imshow(img1,cmap='gray')\n",
    "plt.axis('off')\n",
    "plt.subplot(132)\n",
    "plt.imshow(img2,cmap='gray')\n",
    "plt.axis('off')\n",
    "plt.subplot(133)\n",
    "plt.imshow(img3,cmap='gray')\n",
    "plt.axis('off')"
   ]
  },
  {
   "cell_type": "code",
   "execution_count": null,
   "metadata": {},
   "outputs": [],
   "source": []
  }
 ],
 "metadata": {
  "kernelspec": {
   "display_name": "Python 3",
   "language": "python",
   "name": "python3"
  },
  "language_info": {
   "codemirror_mode": {
    "name": "ipython",
    "version": 3
   },
   "file_extension": ".py",
   "mimetype": "text/x-python",
   "name": "python",
   "nbconvert_exporter": "python",
   "pygments_lexer": "ipython3",
   "version": "3.7.6"
  }
 },
 "nbformat": 4,
 "nbformat_minor": 4
}
