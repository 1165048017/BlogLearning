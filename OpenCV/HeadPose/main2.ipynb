{
 "cells": [
  {
   "cell_type": "code",
   "execution_count": 1,
   "metadata": {},
   "outputs": [],
   "source": [
    "import cv2\n",
    "import math\n",
    "import numpy as np"
   ]
  },
  {
   "cell_type": "code",
   "execution_count": 2,
   "metadata": {},
   "outputs": [],
   "source": [
    "points = np.array([\n",
    "       [ 29.64766 ,  10.      ,  66.01275 ],\n",
    "       [126.870285,  10.      ,  66.01275 ],\n",
    "       [ 60.359673,  34.85047 ,  44.13414 ],\n",
    "       [ 25.144653,  33.933437,  39.87654 ],\n",
    "       [ 96.15827 ,  34.85047 ,  44.13414 ],\n",
    "       [131.37329 ,  33.933437,  39.87654 ],\n",
    "       [ 78.25897 ,  88.78672 ,  67.6343  ],\n",
    "       [ 50.51882 , 109.59447 ,  50.48531 ],\n",
    "       [ 78.25897 , 105.25116 ,  67.04956 ],\n",
    "       [105.99912 , 109.59447 ,  50.48531 ],\n",
    "       [ 78.25897 , 119.950806,  60.976673],\n",
    "       [ 78.25897 , 162.94363 ,  40.70434 ]], dtype='float32')"
   ]
  },
  {
   "cell_type": "code",
   "execution_count": 3,
   "metadata": {},
   "outputs": [],
   "source": [
    "matrix=np.array([[200,0,100],\n",
    "                [0,200,100],\n",
    "                [0,0,1]],dtype='float32')\n",
    "dist_coeffs = np.zeros((4, 1))"
   ]
  },
  {
   "cell_type": "code",
   "execution_count": 6,
   "metadata": {
    "scrolled": true
   },
   "outputs": [],
   "source": [
    "_,rot_vec,trans_vec = cv2.solvePnP(points.astype(\"float32\"),points[...,0:-1].astype(\"float32\"),matrix,dist_coeffs,flags=cv2.SOLVEPNP_DLS)\n",
    "rot_mat = cv2.Rodrigues(rot_vec)[0]\n",
    "pose_mat = cv2.hconcat((rot_mat, trans_vec))\n",
    "euler_angle = cv2.decomposeProjectionMatrix(pose_mat)[-1]\n",
    "euler_angle = euler_angle.flatten()"
   ]
  },
  {
   "cell_type": "code",
   "execution_count": 7,
   "metadata": {},
   "outputs": [
    {
     "data": {
      "text/plain": [
       "array([8.65472038, 1.97385222, 0.86459413])"
      ]
     },
     "execution_count": 7,
     "metadata": {},
     "output_type": "execute_result"
    }
   ],
   "source": [
    "euler_angle"
   ]
  },
  {
   "cell_type": "code",
   "execution_count": null,
   "metadata": {},
   "outputs": [],
   "source": []
  }
 ],
 "metadata": {
  "kernelspec": {
   "display_name": "Python 3",
   "language": "python",
   "name": "python3"
  },
  "language_info": {
   "codemirror_mode": {
    "name": "ipython",
    "version": 3
   },
   "file_extension": ".py",
   "mimetype": "text/x-python",
   "name": "python",
   "nbconvert_exporter": "python",
   "pygments_lexer": "ipython3",
   "version": "3.7.6"
  }
 },
 "nbformat": 4,
 "nbformat_minor": 4
}
