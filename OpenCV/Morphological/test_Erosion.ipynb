{
 "cells": [
  {
   "cell_type": "code",
   "execution_count": 1,
   "metadata": {},
   "outputs": [],
   "source": [
    "import numpy as np\n",
    "import cv2\n",
    "\n",
    "import matplotlib.pyplot as plt"
   ]
  },
  {
   "cell_type": "code",
   "execution_count": 2,
   "metadata": {},
   "outputs": [],
   "source": [
    "def drawMatrix(arr):\n",
    "    height = arr.shape[0] * 10\n",
    "    width = arr.shape[1] *10\n",
    "    img = np.zeros((height,width),dtype=np.uint8)\n",
    "    for i in range(arr.shape[0]):\n",
    "        for j in range(arr.shape[1]):\n",
    "            img[i*10:i*10+10,j*10:j*10+10] = arr[i,j]\n",
    "    img[::10,...] = 200\n",
    "    img[...,::10] = 200\n",
    "    return img"
   ]
  },
  {
   "cell_type": "code",
   "execution_count": 3,
   "metadata": {},
   "outputs": [],
   "source": [
    "src = 255.0 - np.array([[1,1,1,1,1,1,1,1,1,1,1,1,1,1,1],\n",
    "                        [1,0,0,0,0,1,1,1,1,1,0,0,0,0,1],\n",
    "                        [1,0,0,0,0,0,0,0,0,0,0,0,0,0,1],\n",
    "                        [1,0,0,0,0,0,0,0,0,0,0,0,0,0,1],\n",
    "                        [1,0,0,0,0,0,0,0,0,0,0,0,0,0,1],\n",
    "                        [1,0,0,0,0,1,1,1,1,1,0,0,0,0,1],\n",
    "                        [1,1,1,1,1,1,1,1,1,1,1,1,1,1,1]])*255.0\n",
    "# src = 255.0 - np.array([[1,1,1,1,1,1,1,1,1,1,1,1,1,1,1],\n",
    "#                         [1,0,0,0,0,0,0,0,0,0,0,0,0,0,1],\n",
    "#                         [1,0,0,0,0,0,0,0,0,0,0,0,0,0,1],\n",
    "#                         [1,0,0,0,0,0,0,0,0,0,0,0,0,0,1],\n",
    "#                         [1,0,0,0,0,0,0,0,0,0,0,0,0,0,1],\n",
    "#                         [1,0,0,0,0,0,0,0,0,0,0,0,0,0,1],\n",
    "#                         [1,1,1,1,1,1,1,1,1,1,1,1,1,1,1]])*255.0\n",
    "# src = np.ones((7,15))*255.0"
   ]
  },
  {
   "cell_type": "code",
   "execution_count": 4,
   "metadata": {},
   "outputs": [],
   "source": [
    "# 腐蚀 Erosion\n",
    "# kernel = np.array([[0,1,0],\n",
    "#                    [1,1,1],\n",
    "#                    [0,1,0]],np.uint8);\n",
    "kernel = np.array([[0,1,0,1],[1,0,1,0],[0,1,1,0]],np.uint8)\n",
    "# kernel = np.array([[0,0],[1,0]],np.uint8)\n",
    "result = cv2.erode(src,kernel,iterations=1,borderType=cv2.BORDER_CONSTANT,borderValue=1)"
   ]
  },
  {
   "cell_type": "code",
   "execution_count": 5,
   "metadata": {
    "scrolled": true
   },
   "outputs": [
    {
     "data": {
      "text/plain": [
       "<matplotlib.image.AxesImage at 0x1e7fe4b2848>"
      ]
     },
     "execution_count": 5,
     "metadata": {},
     "output_type": "execute_result"
    },
    {
     "data": {
      "image/png": "[encoded data removed]",
      "text/plain": [
       "<Figure size 1152x1152 with 3 Axes>"
      ]
     },
     "metadata": {
      "needs_background": "light"
     },
     "output_type": "display_data"
    }
   ],
   "source": [
    "plt.figure(figsize=(16,16))\n",
    "plt.subplot(131)\n",
    "plt.imshow(drawMatrix(src),cmap='gray')\n",
    "plt.subplot(132)\n",
    "plt.imshow(drawMatrix(kernel*255.0),cmap='gray')\n",
    "plt.subplot(133)\n",
    "plt.imshow(drawMatrix(result),cmap='gray')"
   ]
  },
  {
   "cell_type": "code",
   "execution_count": 6,
   "metadata": {},
   "outputs": [],
   "source": [
    "def erod(img,kernel):\n",
    "    ksize = kernel.shape\n",
    "    center = [ksize[0]-1,ksize[1]-1]\n",
    "    if(ksize[0]%2==1 and ksize[1]%2==1):\n",
    "        center=(int(ksize[0]/2),int(ksize[1]/2))\n",
    "    img_pad = cv2.copyMakeBorder(src,center[0],center[0],center[1],center[1],borderType=cv2.BORDER_CONSTANT,value=0)\n",
    "    new_img = np.zeros_like(img)\n",
    "    ele_idx = np.argwhere(kernel==1)\n",
    "    for i in range(img.shape[0]):\n",
    "        for j in range(img.shape[1]):\n",
    "            block = img_pad[i:i+ksize[0],j:j+ksize[1]]\n",
    "            if(block[ele_idx[...,0],ele_idx[...,1]].all()==1):\n",
    "                new_img[i,j] = 1\n",
    "            else:\n",
    "                new_img[i,j] = 0\n",
    "    return img_pad,new_img"
   ]
  },
  {
   "cell_type": "code",
   "execution_count": 7,
   "metadata": {
    "scrolled": false
   },
   "outputs": [],
   "source": [
    "pad_img,new_img = erod(src,kernel)"
   ]
  },
  {
   "cell_type": "code",
   "execution_count": 8,
   "metadata": {},
   "outputs": [
    {
     "data": {
      "text/plain": [
       "<matplotlib.image.AxesImage at 0x1e7fe5b1708>"
      ]
     },
     "execution_count": 8,
     "metadata": {},
     "output_type": "execute_result"
    },
    {
     "data": {
      "image/png": "[encoded data removed]",
      "text/plain": [
       "<Figure size 432x288 with 1 Axes>"
      ]
     },
     "metadata": {
      "needs_background": "light"
     },
     "output_type": "display_data"
    }
   ],
   "source": [
    "plt.imshow(drawMatrix(new_img*255.0),cmap='gray')"
   ]
  },
  {
   "cell_type": "code",
   "execution_count": null,
   "metadata": {},
   "outputs": [],
   "source": []
  }
 ],
 "metadata": {
  "kernelspec": {
   "display_name": "Python 3",
   "language": "python",
   "name": "python3"
  },
  "language_info": {
   "codemirror_mode": {
    "name": "ipython",
    "version": 3
   },
   "file_extension": ".py",
   "mimetype": "text/x-python",
   "name": "python",
   "nbconvert_exporter": "python",
   "pygments_lexer": "ipython3",
   "version": "3.7.6"
  }
 },
 "nbformat": 4,
 "nbformat_minor": 4
}
