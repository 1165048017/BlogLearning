{
 "cells": [
  {
   "cell_type": "code",
   "execution_count": 1,
   "metadata": {},
   "outputs": [],
   "source": [
    "import cv2\n",
    "import numpy as np\n",
    "\n",
    "import matplotlib.pyplot as plt"
   ]
  },
  {
   "cell_type": "code",
   "execution_count": 2,
   "metadata": {},
   "outputs": [],
   "source": [
    "img = cv2.imread('connect.png')\n",
    "img_gray = cv2.cvtColor(img,cv2.COLOR_BGR2GRAY)\n",
    "_,img_bin = cv2.threshold(img_gray,127,255,cv2.THRESH_BINARY)"
   ]
  },
  {
   "cell_type": "code",
   "execution_count": 3,
   "metadata": {},
   "outputs": [],
   "source": [
    "# Structuring Element\n",
    "kernel = cv2.getStructuringElement(cv2.MORPH_CROSS,(3,3))\n",
    "# Create an empty output image to hold values\n",
    "thin = np.zeros(img_bin.shape,dtype='uint8')\n",
    "\n",
    "img1 = img_bin.copy()\n",
    "# Loop until erosion leads to an empty set\n",
    "while (cv2.countNonZero(img1)!=0):\n",
    "    # Erosion\n",
    "    erode = cv2.erode(img1,kernel)\n",
    "    # Opening on eroded image\n",
    "    opening = cv2.morphologyEx(erode,cv2.MORPH_OPEN,kernel)\n",
    "    # Subtract these two\n",
    "    subset = erode - opening\n",
    "    # Union of all previous sets\n",
    "    thin = cv2.bitwise_or(subset,thin)\n",
    "    # Set the eroded image for next iteration\n",
    "    img1 = erode.copy()"
   ]
  },
  {
   "cell_type": "code",
   "execution_count": 4,
   "metadata": {},
   "outputs": [],
   "source": [
    "thinned = cv2.ximgproc.thinning(img_bin,cv2.ximgproc.THINNING_ZHANGSUEN)"
   ]
  },
  {
   "cell_type": "code",
   "execution_count": 5,
   "metadata": {},
   "outputs": [
    {
     "data": {
      "text/plain": [
       "<matplotlib.image.AxesImage at 0x20d6dba54c8>"
      ]
     },
     "execution_count": 5,
     "metadata": {},
     "output_type": "execute_result"
    },
    {
     "data": {
      "image/png": "[encoded data removed]",
      "text/plain": [
       "<Figure size 1152x1152 with 3 Axes>"
      ]
     },
     "metadata": {
      "needs_background": "light"
     },
     "output_type": "display_data"
    }
   ],
   "source": [
    "plt.figure(figsize=(16,16))\n",
    "plt.subplot(131)\n",
    "plt.imshow(img_bin,cmap='gray')\n",
    "plt.subplot(132)\n",
    "plt.imshow(thin,cmap='gray')\n",
    "plt.subplot(133)\n",
    "plt.imshow(thinned,cmap='gray')"
   ]
  },
  {
   "cell_type": "code",
   "execution_count": null,
   "metadata": {},
   "outputs": [],
   "source": []
  },
  {
   "cell_type": "code",
   "execution_count": null,
   "metadata": {},
   "outputs": [],
   "source": []
  },
  {
   "cell_type": "code",
   "execution_count": 6,
   "metadata": {},
   "outputs": [],
   "source": [
    "#https://rosettacode.org/wiki/Zhang-Suen_thinning_algorithm#Python\n",
    "def intarray(binstring):\n",
    "    '''Change a 2D matrix of 01 chars into a list of lists of ints'''\n",
    "    return [[1 if ch == '1' else 0 for ch in line] \n",
    "            for line in binstring.strip().split()]\n",
    " \n",
    "def chararray(intmatrix):\n",
    "    '''Change a 2d list of lists of 1/0 ints into lines of 1/0 chars'''\n",
    "    return '\\n'.join(''.join(str(p) for p in row) for row in intmatrix)\n",
    " \n",
    "def toTxt(intmatrix):\n",
    "    '''Change a 2d list of lists of 1/0 ints into lines of '#' and '.' chars'''\n",
    "    return '\\n'.join(''.join(('#' if p else '.') for p in row) for row in intmatrix)\n",
    " \n",
    "def neighbours(x, y, image):\n",
    "    '''Return 8-neighbours of point p1 of picture, in order'''\n",
    "    i = image\n",
    "    x1, y1, x_1, y_1 = x+1, y-1, x-1, y+1\n",
    "    #print ((x,y))\n",
    "    return [i[y1][x],  i[y1][x1],   i[y][x1],  i[y_1][x1],  # P2,P3,P4,P5\n",
    "            i[y_1][x], i[y_1][x_1], i[y][x_1], i[y1][x_1]]  # P6,P7,P8,P9\n",
    " \n",
    "def transitions(neighbours):\n",
    "    n = neighbours + neighbours[0:1]    # P2, ... P9, P2\n",
    "    return sum((n1, n2) == (0, 1) for n1, n2 in zip(n, n[1:]))\n",
    " \n",
    "def zhangSuen(image):\n",
    "    changing1 = changing2 = [(-1, -1)]\n",
    "    while changing1 or changing2:\n",
    "        # Step 1\n",
    "        changing1 = []\n",
    "        for y in range(1, len(image) - 1):\n",
    "            for x in range(1, len(image[0]) - 1):\n",
    "                P2,P3,P4,P5,P6,P7,P8,P9 = n = neighbours(x, y, image)\n",
    "                if (image[y][x] == 1 and    # (Condition 0)\n",
    "                    P4 * P6 * P8 == 0 and   # Condition 4\n",
    "                    P2 * P4 * P6 == 0 and   # Condition 3\n",
    "                    transitions(n) == 1 and # Condition 2\n",
    "                    2 <= sum(n) <= 6):      # Condition 1\n",
    "                    changing1.append((x,y))\n",
    "        for x, y in changing1: image[y][x] = 0\n",
    "        # Step 2\n",
    "        changing2 = []\n",
    "        for y in range(1, len(image) - 1):\n",
    "            for x in range(1, len(image[0]) - 1):\n",
    "                P2,P3,P4,P5,P6,P7,P8,P9 = n = neighbours(x, y, image)\n",
    "                if (image[y][x] == 1 and    # (Condition 0)\n",
    "                    P2 * P6 * P8 == 0 and   # Condition 4\n",
    "                    P2 * P4 * P8 == 0 and   # Condition 3\n",
    "                    transitions(n) == 1 and # Condition 2\n",
    "                    2 <= sum(n) <= 6):      # Condition 1\n",
    "                    changing2.append((x,y))\n",
    "        for x, y in changing2: image[y][x] = 0\n",
    "        #print changing1\n",
    "        #print changing2\n",
    "    return image"
   ]
  },
  {
   "cell_type": "code",
   "execution_count": 13,
   "metadata": {},
   "outputs": [],
   "source": [
    "img_zs = zhangSuen(img_bin/255.0)"
   ]
  },
  {
   "cell_type": "code",
   "execution_count": 14,
   "metadata": {},
   "outputs": [
    {
     "data": {
      "text/plain": [
       "<matplotlib.image.AxesImage at 0x20d6ee8fe08>"
      ]
     },
     "execution_count": 14,
     "metadata": {},
     "output_type": "execute_result"
    },
    {
     "data": {
      "image/png": "[encoded data removed]",
      "text/plain": [
       "<Figure size 432x288 with 1 Axes>"
      ]
     },
     "metadata": {
      "needs_background": "light"
     },
     "output_type": "display_data"
    }
   ],
   "source": [
    "plt.imshow(img_zs,cmap='gray')"
   ]
  },
  {
   "cell_type": "code",
   "execution_count": null,
   "metadata": {},
   "outputs": [],
   "source": []
  }
 ],
 "metadata": {
  "kernelspec": {
   "display_name": "Python 3",
   "language": "python",
   "name": "python3"
  },
  "language_info": {
   "codemirror_mode": {
    "name": "ipython",
    "version": 3
   },
   "file_extension": ".py",
   "mimetype": "text/x-python",
   "name": "python",
   "nbconvert_exporter": "python",
   "pygments_lexer": "ipython3",
   "version": "3.7.6"
  }
 },
 "nbformat": 4,
 "nbformat_minor": 4
}
