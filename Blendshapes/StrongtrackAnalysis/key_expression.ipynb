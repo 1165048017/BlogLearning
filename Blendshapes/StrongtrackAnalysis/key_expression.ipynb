{
 "cells": [
  {
   "cell_type": "code",
   "execution_count": 1,
   "metadata": {},
   "outputs": [],
   "source": [
    "import cv2\n",
    "import matplotlib.pyplot as plt\n",
    "import numpy as np"
   ]
  },
  {
   "cell_type": "code",
   "execution_count": 2,
   "metadata": {},
   "outputs": [],
   "source": [
    "kps_idx = np.array([5301,5283,5274,5265,5256,\n",
    "           5202,5211,5220,5227,5247,\n",
    "           3829,5077,5074,2507,5041,5054,\n",
    "           1252,2449,2452,2439,25,123,\n",
    "           2612,2613,2615,2617,\n",
    "           3703,3223,3699,656,1096,\n",
    "          2787,2703,2701,2702,176,177,250,456,185,2713,2736,2994,\n",
    "          3093,3062,3045,509,538,547,3105,3102,\n",
    "          3816,2699,2896,2830,2838,2841,2914,2916,2894,377,355,304,305,301,357,780,1205],dtype=np.int)"
   ]
  },
  {
   "cell_type": "code",
   "execution_count": 3,
   "metadata": {},
   "outputs": [],
   "source": [
    "def getVerts(objfile):\n",
    "    vertices = []\n",
    "    for line in open(objfile, \"r\"):\n",
    "        values = line.split()\n",
    "        if(values==[]):\n",
    "            continue\n",
    "        if(values=='#'):\n",
    "            continue\n",
    "        if(values[0]=='v'):\n",
    "            vertices.append([float(values[1])*100,-float(values[2])*100,float(values[3])*100])    \n",
    "    verts_arr = np.array(vertices,np.int)\n",
    "    verts_arr[...,0] = verts_arr[...,0] - np.min(verts_arr[...,0])\n",
    "    verts_arr[...,1] = verts_arr[...,1] - np.min(verts_arr[...,1])\n",
    "    verts_arr[...,2] = verts_arr[...,2] - np.min(verts_arr[...,2])\n",
    "    return verts_arr"
   ]
  },
  {
   "cell_type": "code",
   "execution_count": 4,
   "metadata": {},
   "outputs": [],
   "source": [
    "# 0：Neutral\n",
    "basicVerts = getVerts('./data/Basis.obj')\n",
    "base_kps = basicVerts[kps_idx,0:2]\n",
    "# 1：Jaw Open\n",
    "jawopenVerts = getVerts('./data/jawOpen.obj')\n",
    "jawopen_kps = jawopenVerts[kps_idx,0:2]\n",
    "# 2：Closed Smile\n",
    "closesmileVerts = getVerts('./data/mouthSmile.obj')\n",
    "closesmile_kps = closesmileVerts[kps_idx,0:2]\n",
    "# 3：Smile Left\n",
    "smileleftVerts = getVerts('./data/mouthSmileLeft.obj')\n",
    "smileleft_kps = smileleftVerts[kps_idx,0:2]\n",
    "# 4：Smile Right\n",
    "smilerightVerts = getVerts('./data/mouthSmileRight.obj')\n",
    "smileright_kps = smilerightVerts[kps_idx,0:2]\n",
    "# 5：Mouth Frown\n",
    "mouthfrownVerts = getVerts('./data/mouthFrown.obj')\n",
    "mouthfrown_kps = mouthfrownVerts[kps_idx,0:2]\n",
    "# 6：Lip Funnel\n",
    "lipfunnelVerts = getVerts('./data/mouthFunnel.obj')\n",
    "lipfunnel_kps = lipfunnelVerts[kps_idx,0:2]\n",
    "# 7：Lip Pucker\n",
    "lippuckerVerts = getVerts('./data/mouthPucker.obj')\n",
    "lippucker_kps = lippuckerVerts[kps_idx,0:2]\n",
    "# 8：Brows Up\n",
    "browupVerts = getVerts('./data/browInnerUp.obj')\n",
    "browup_kps = browupVerts[kps_idx,0:2]\n",
    "# 9：Brows Down\n",
    "browdownVerts = getVerts('./data/browDown.obj')\n",
    "browdown_kps = browdownVerts[kps_idx,0:2]\n",
    "\n",
    "keypose = [base_kps,jawopen_kps,closesmile_kps,\n",
    "                    smileleft_kps,smileright_kps,mouthfrown_kps,\n",
    "                    lipfunnel_kps,lippucker_kps,browup_kps,browdown_kps]\n",
    "\n",
    "keypose = np.array(keypose)\n",
    "\n",
    "np.save(\"keypose.npy\",keypose)"
   ]
  },
  {
   "cell_type": "code",
   "execution_count": 5,
   "metadata": {},
   "outputs": [],
   "source": [
    "#test dataset\n",
    "test1Verts = getVerts('./test/test1.obj')\n",
    "test1_kps = test1Verts[kps_idx,0:2]\n",
    "test2Verts = getVerts('./test/test2.obj')\n",
    "test2_kps = test2Verts[kps_idx,0:2]\n",
    "\n",
    "test_kps=[]\n",
    "test_kps.append(test1_kps)\n",
    "test_kps.append(test2_kps)\n",
    "np.save(\"test.npy\",np.array(test_kps))"
   ]
  },
  {
   "cell_type": "code",
   "execution_count": 6,
   "metadata": {},
   "outputs": [],
   "source": [
    "def drawPart(face_kps,drawimg,start,end,color,closed=True):\n",
    "    for i in range(start,end+1):\n",
    "        cv2.circle(drawimg,(face_kps[i,0],face_kps[i,1]),2,color,-1)\n",
    "        if(i<end):\n",
    "            cv2.line(drawimg,(face_kps[i,0],face_kps[i,1]),(face_kps[i+1,0],face_kps[i+1,1]),color,1)\n",
    "        elif(closed):\n",
    "            cv2.line(drawimg,(face_kps[end,0],face_kps[end,1]),(face_kps[start,0],face_kps[start,1]),color,1)\n",
    "    return drawimg"
   ]
  },
  {
   "cell_type": "code",
   "execution_count": 7,
   "metadata": {},
   "outputs": [
    {
     "data": {
      "text/plain": [
       "<matplotlib.image.AxesImage at 0x1f3aa133e88>"
      ]
     },
     "execution_count": 7,
     "metadata": {},
     "output_type": "execute_result"
    },
    {
     "data": {
      "image/png": "[encoded data removed]",
      "text/plain": [
       "<Figure size 576x576 with 1 Axes>"
      ]
     },
     "metadata": {
      "needs_background": "light"
     },
     "output_type": "display_data"
    }
   ],
   "source": [
    "kps = keypose[3]\n",
    "img = np.zeros((np.max(kps[...,0]*2),np.max(kps[...,1])*2,3),dtype='uint8')\n",
    "img = drawPart(kps,img,0,4,(255,0,0),False) # 左眉毛，非封闭区域\n",
    "img = drawPart(kps,img,5,9,(0,255,0),False) #右眉毛，非封闭区域\n",
    "img = drawPart(kps,img,10,15,(255,0,0)) # 左眼\n",
    "img = drawPart(kps,img,16,21,(0,255,0)) # 右眼\n",
    "img = drawPart(kps,img,22,25,(0,0,255),False) # 鼻梁，非封闭区域\n",
    "img = drawPart(kps,img,26,30,(0,0,255),False) # 鼻子，非封闭区域\n",
    "img = drawPart(kps,img,31,42,(0,255,255)) # 外嘴唇\n",
    "img = drawPart(kps,img,43,50,(255,0,255)) # 内嘴唇\n",
    "img = drawPart(kps,img,51,67,(255,255,0),False) # 脸轮廓，非封闭区域\n",
    "\n",
    "plt.figure(figsize=(8,8))\n",
    "plt.imshow(img/255.0)"
   ]
  },
  {
   "cell_type": "code",
   "execution_count": null,
   "metadata": {},
   "outputs": [],
   "source": []
  }
 ],
 "metadata": {
  "kernelspec": {
   "display_name": "Python 3",
   "language": "python",
   "name": "python3"
  },
  "language_info": {
   "codemirror_mode": {
    "name": "ipython",
    "version": 3
   },
   "file_extension": ".py",
   "mimetype": "text/x-python",
   "name": "python",
   "nbconvert_exporter": "python",
   "pygments_lexer": "ipython3",
   "version": "3.7.6"
  }
 },
 "nbformat": 4,
 "nbformat_minor": 4
}
