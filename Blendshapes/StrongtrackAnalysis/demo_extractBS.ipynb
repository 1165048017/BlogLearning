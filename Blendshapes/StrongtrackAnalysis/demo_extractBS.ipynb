{
 "cells": [
  {
   "cell_type": "code",
   "execution_count": 1,
   "metadata": {},
   "outputs": [],
   "source": [
    "import numpy as np\n",
    "import cv2\n",
    "import matplotlib.pyplot as plt\n",
    "\n",
    "from sklearn.decomposition import SparseCoder"
   ]
  },
  {
   "cell_type": "code",
   "execution_count": 2,
   "metadata": {},
   "outputs": [],
   "source": [
    "def drawPart(face_kps,drawimg,start,end,color,closed=True):\n",
    "    for i in range(start,end+1):\n",
    "        cv2.circle(drawimg,(face_kps[i,0],face_kps[i,1]),2,color,-1)\n",
    "        if(i<end):\n",
    "            cv2.line(drawimg,(face_kps[i,0],face_kps[i,1]),(face_kps[i+1,0],face_kps[i+1,1]),color,1)\n",
    "        elif(closed):\n",
    "            cv2.line(drawimg,(face_kps[end,0],face_kps[end,1]),(face_kps[start,0],face_kps[start,1]),color,1)\n",
    "    return drawimg\n",
    "def drawFace(kps):\n",
    "    img = np.zeros((np.max(kps[...,0]*2),np.max(kps[...,1])*2,3),dtype='uint8')\n",
    "    img = drawPart(kps,img,0,4,(255,0,0),False) # 左眉毛，非封闭区域\n",
    "    img = drawPart(kps,img,5,9,(0,255,0),False) #右眉毛，非封闭区域\n",
    "    img = drawPart(kps,img,10,15,(255,0,0)) # 左眼\n",
    "    img = drawPart(kps,img,16,21,(0,255,0)) # 右眼\n",
    "    img = drawPart(kps,img,22,25,(0,0,255),False) # 鼻梁，非封闭区域\n",
    "    img = drawPart(kps,img,26,30,(0,0,255),False) # 鼻子，非封闭区域\n",
    "    img = drawPart(kps,img,31,42,(0,255,255)) # 外嘴唇\n",
    "    img = drawPart(kps,img,43,50,(255,0,255)) # 内嘴唇\n",
    "    img = drawPart(kps,img,51,67,(255,255,0),False) # 脸轮廓，非封闭区域\n",
    "    return img"
   ]
  },
  {
   "cell_type": "code",
   "execution_count": 3,
   "metadata": {},
   "outputs": [],
   "source": [
    "# 加载keypose表情基，测试表情关键点\n",
    "keypose = np.load(\"keypose.npy\")\n",
    "testpose = np.load(\"test.npy\")\n",
    "testpose=testpose[0]\n",
    "# plt.imshow(drawFace(testpose))"
   ]
  },
  {
   "cell_type": "code",
   "execution_count": 4,
   "metadata": {},
   "outputs": [],
   "source": [
    "'''\n",
    "第一步将表情基分开\n",
    "0-7为嘴的动作\n",
    "8-9为眼睛/眉毛的动作\n",
    "'''\n",
    "keyposes_mouth = keypose[0:8]\n",
    "keyposes_brows = keypose[[0,8,9],:]\n",
    "\n",
    "width_points = testpose[67][0]-testpose[51][0] #脸宽"
   ]
  },
  {
   "cell_type": "markdown",
   "metadata": {},
   "source": [
    "# 处理嘴部"
   ]
  },
  {
   "cell_type": "code",
   "execution_count": 5,
   "metadata": {},
   "outputs": [],
   "source": [
    "'''\n",
    "将表情基的人脸关键点与当前表情关键点对齐\n",
    "可以用于处理局部关键点，源码中分别处理眼、嘴\n",
    "'''\n",
    "def shiftKeyPoses(new_width, centroid, keyposes, config):   \n",
    "    #Scale keypose based on head width to accomodate for translation or different video size.\n",
    "    width_keypose = (keyposes[0][67][0]-keyposes[0][51][0]) # 表情基中第一个姿态的人脸宽度\n",
    "    width_fac = width_keypose/new_width # 表情基脸宽/真人脸宽\n",
    "    \n",
    "    keyposes = np.divide(keyposes, [width_fac,width_fac]).astype(int) # 依据比例系数，将所有表情基关键点缩放到真人面部大小\n",
    "    \n",
    "    new_poses = []\n",
    "    \n",
    "    for i in range(keyposes.shape[0]): # 遍历所有的表情基\n",
    "        #For brows we take average of eyes points\n",
    "        if config == 'brows': \n",
    "            keypose = np.array(keyposes[i][10:22])\n",
    "        #Fo mouth we take average of mouth points\n",
    "        if config == 'mouth':\n",
    "            keypose = np.array(keyposes[i][31:51])\n",
    "            \n",
    "        centroid_keypose = keypose.mean(0) #表情基中眉毛或者嘴部的中心\n",
    "        delta = centroid_keypose-centroid # 表情基眉毛或嘴中心与真人眉毛或嘴中心的偏移量\n",
    "        \n",
    "        new_pose = keyposes[i]-delta.astype(int) # 利用中心偏移量 重新调整表情基的位置\n",
    "        new_poses.append(new_pose) # 将新的表情基加入数组中返回\n",
    "        \n",
    "    return np.array(new_poses)"
   ]
  },
  {
   "cell_type": "code",
   "execution_count": 6,
   "metadata": {},
   "outputs": [],
   "source": [
    "'''\n",
    "嘴部BS\n",
    "'''\n",
    "# 对齐keypose和真人嘴部关键点\n",
    "mouth_center = testpose[31:51].mean(0)\n",
    "shift_kps_mouth = shiftKeyPoses(width_points,mouth_center,keyposes_mouth,\"mouth\")\n",
    "# 重组嘴部坐标，便于计算\n",
    "target_mouth = testpose[31:51].reshape((1,-1))\n",
    "dict_2d_mouth = []\n",
    "for i in range(shift_kps_mouth.shape[0]):\n",
    "    dict_2d_mouth.append(shift_kps_mouth[i][31:51])\n",
    "dict_2d_mouth = np.array(dict_2d_mouth).reshape(shift_kps_mouth.shape[0],-1)\n",
    "# 提取嘴部运动的系数\n",
    "coder = SparseCoder(dictionary=dict_2d_mouth.astype(\"float32\"),transform_n_nonzero_coefs=None,transform_alpha=10,transform_algorithm='lasso_lars')\n",
    "coeffs = coder.transform(target_mouth.astype(\"float32\"))"
   ]
  },
  {
   "cell_type": "markdown",
   "metadata": {},
   "source": [
    "# 处理眉毛"
   ]
  },
  {
   "cell_type": "code",
   "execution_count": 7,
   "metadata": {
    "scrolled": true
   },
   "outputs": [],
   "source": [
    "'''\n",
    "眉毛BS：\n",
    "眉毛向上的BS系数：通过简单的判断\n",
    "'''\n",
    "# 计算眉毛\n",
    "def calBrow(points, keyposes, config, config2):\n",
    "    # 眉毛姿态集中，分别有正常，眉毛上，眉毛下\n",
    "    if config == 'left':\n",
    "        first = 5\n",
    "        last = 10\n",
    "    if config == 'right':\n",
    "        first = 0\n",
    "        last = 5\n",
    "    if config2 == \"up\":\n",
    "        target = 1 # 眉毛上\n",
    "    else:\n",
    "        target = 2 # 眉毛下\n",
    "    # 计算挑眉的keypose相对于自然表情下眉毛移动\n",
    "    deltashifted = keyposes[target][first:last] - keyposes[0][first:last]\n",
    "    deltashifted = (sum(sum(abs(deltashifted))))\n",
    "    # 计算当前人脸相对于自然表情下眉毛移动\n",
    "    deltapoints = (points[first:last]) - (keyposes[target][first:last])\n",
    "    deltapoints = (sum(sum(abs(deltapoints))))\n",
    "    # 直接相除，得到比例系数\n",
    "    if deltapoints < (deltashifted):\n",
    "        val = 1 - (deltapoints / deltashifted)\n",
    "    else:\n",
    "        val = 0.0\n",
    "    # 如果是眉毛向下，可以用垂直比例来辅助计算，不然不准\n",
    "    if(target==2):\n",
    "        ydelt  = keypose[2][first:last] - points[first:last]\n",
    "        ydelt = sum(ydelt.T[1])\n",
    "        if(ydelt<=0):\n",
    "            val = 1.0\n",
    "    return val\n",
    "\n",
    "# 约束\n",
    "def constraint(val,lower,upper):\n",
    "    factor = 1 / lower\n",
    "    if lower > val:\n",
    "        new_val = 0.0\n",
    "    if lower <= val < upper:\n",
    "        new_val = (val - lower) * factor\n",
    "    if val >= upper:\n",
    "        new_val = 1.0\n",
    "    return new_val"
   ]
  },
  {
   "cell_type": "code",
   "execution_count": 8,
   "metadata": {},
   "outputs": [],
   "source": [
    "# 对齐眉毛关键点\n",
    "eye_center = testpose[10:22].mean(0)\n",
    "shift_kps_eye = shiftKeyPoses(width_points,eye_center,keyposes_brows,\"brows\")\n",
    "# 分别提取左右眉毛上下运动的系数\n",
    "val_l_up = calBrow(testpose,shift_kps_eye,\"left\",\"up\")\n",
    "val_r_up = calBrow(testpose,shift_kps_eye,\"right\",\"up\")\n",
    "val_l_down = constraint(calBrow(testpose,shift_kps_eye,\"left\",\"down\"),0.4,0.8)\n",
    "val_r_down = constraint(calBrow(testpose,shift_kps_eye,\"right\",\"down\"),0.4,0.8)"
   ]
  },
  {
   "cell_type": "markdown",
   "metadata": {},
   "source": [
    "# 眨眼"
   ]
  },
  {
   "cell_type": "code",
   "execution_count": 9,
   "metadata": {},
   "outputs": [],
   "source": [
    "#左眼\n",
    "eye_top_r = testpose[11:13].mean(0)\n",
    "eye_mid_r = testpose[[10,13]].mean(0)\n",
    "eye_bottom_r = testpose[14:16].mean(0)\n",
    "blink_r_coeff = (eye_top_r[1]-eye_mid_r[1]+28)/48\n",
    "squint_r_coeff = (eye_mid_r[1]-eye_bottom_r[1]+17)/7.5\n",
    "#右眼\n",
    "eye_top_l = testpose[17:19].mean(0)\n",
    "eye_mid_l = testpose[[16,19]].mean(0)\n",
    "eye_bottom_l = testpose[20:22].mean(0)\n",
    "blink_l_coeff = (eye_top_l[1]-eye_mid_l[1]+28)/48\n",
    "squint_l_coeff = (eye_mid_l[1]-eye_bottom_l[1]+17)/7.5"
   ]
  },
  {
   "cell_type": "code",
   "execution_count": null,
   "metadata": {},
   "outputs": [],
   "source": []
  }
 ],
 "metadata": {
  "kernelspec": {
   "display_name": "Python 3",
   "language": "python",
   "name": "python3"
  },
  "language_info": {
   "codemirror_mode": {
    "name": "ipython",
    "version": 3
   },
   "file_extension": ".py",
   "mimetype": "text/x-python",
   "name": "python",
   "nbconvert_exporter": "python",
   "pygments_lexer": "ipython3",
   "version": "3.7.6"
  }
 },
 "nbformat": 4,
 "nbformat_minor": 4
}
