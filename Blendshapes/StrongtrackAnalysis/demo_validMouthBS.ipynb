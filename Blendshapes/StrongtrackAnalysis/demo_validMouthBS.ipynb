{
 "cells": [
  {
   "cell_type": "markdown",
   "metadata": {},
   "source": [
    "# 提取嘴部BS"
   ]
  },
  {
   "cell_type": "code",
   "execution_count": 1,
   "metadata": {},
   "outputs": [],
   "source": [
    "import numpy as np\n",
    "import cv2\n",
    "import matplotlib.pyplot as plt\n",
    "\n",
    "from sklearn.decomposition import SparseCoder"
   ]
  },
  {
   "cell_type": "code",
   "execution_count": 2,
   "metadata": {},
   "outputs": [],
   "source": [
    "def drawPart(face_kps,drawimg,start,end,color,closed=True):\n",
    "    for i in range(start,end+1):\n",
    "        cv2.circle(drawimg,(face_kps[i,0],face_kps[i,1]),2,color,-1)\n",
    "        if(i<end):\n",
    "            cv2.line(drawimg,(face_kps[i,0],face_kps[i,1]),(face_kps[i+1,0],face_kps[i+1,1]),color,1)\n",
    "        elif(closed):\n",
    "            cv2.line(drawimg,(face_kps[end,0],face_kps[end,1]),(face_kps[start,0],face_kps[start,1]),color,1)\n",
    "    return drawimg\n",
    "def drawFace(kps):\n",
    "    img = np.zeros((np.max(kps[...,0]*2),np.max(kps[...,1])*2,3),dtype='uint8')\n",
    "    img = drawPart(kps,img,0,4,(255,0,0),False) # 左眉毛，非封闭区域\n",
    "    img = drawPart(kps,img,5,9,(0,255,0),False) #右眉毛，非封闭区域\n",
    "    img = drawPart(kps,img,10,15,(255,0,0)) # 左眼\n",
    "    img = drawPart(kps,img,16,21,(0,255,0)) # 右眼\n",
    "    img = drawPart(kps,img,22,25,(0,0,255),False) # 鼻梁，非封闭区域\n",
    "    img = drawPart(kps,img,26,30,(0,0,255),False) # 鼻子，非封闭区域\n",
    "    img = drawPart(kps,img,31,42,(0,255,255)) # 外嘴唇\n",
    "    img = drawPart(kps,img,43,50,(255,0,255)) # 内嘴唇\n",
    "    img = drawPart(kps,img,51,67,(255,255,0),False) # 脸轮廓，非封闭区域\n",
    "    return img"
   ]
  },
  {
   "cell_type": "code",
   "execution_count": 3,
   "metadata": {},
   "outputs": [],
   "source": [
    "# 加载keypose表情基，测试表情关键点\n",
    "keypose = np.load(\"keypose.npy\")\n",
    "testpose = np.load(\"test.npy\")"
   ]
  },
  {
   "cell_type": "code",
   "execution_count": 4,
   "metadata": {},
   "outputs": [
    {
     "data": {
      "text/plain": [
       "<matplotlib.image.AxesImage at 0x18a25a6e188>"
      ]
     },
     "execution_count": 4,
     "metadata": {},
     "output_type": "execute_result"
    },
    {
     "data": {
      "image/png": "[encoded data removed]",
      "text/plain": [
       "<Figure size 1152x1152 with 2 Axes>"
      ]
     },
     "metadata": {
      "needs_background": "light"
     },
     "output_type": "display_data"
    }
   ],
   "source": [
    "plt.figure(figsize=(16,16))\n",
    "plt.subplot(121)\n",
    "plt.imshow(drawFace(testpose[0]))\n",
    "plt.subplot(122)\n",
    "plt.imshow(drawFace(testpose[1]))"
   ]
  },
  {
   "cell_type": "code",
   "execution_count": 5,
   "metadata": {},
   "outputs": [],
   "source": [
    "testpose = testpose[1]"
   ]
  },
  {
   "cell_type": "code",
   "execution_count": 6,
   "metadata": {},
   "outputs": [],
   "source": [
    "'''\n",
    "第一步将表情基分开\n",
    "0-7为嘴的动作\n",
    "'''\n",
    "keyposes_mouth = keypose[0:8]\n",
    "\n",
    "width_points = testpose[67][0]-testpose[51][0] #脸宽"
   ]
  },
  {
   "cell_type": "code",
   "execution_count": 7,
   "metadata": {},
   "outputs": [],
   "source": [
    "'''\n",
    "将表情基的人脸关键点与当前表情关键点对齐\n",
    "可以用于处理局部关键点，源码中分别处理眼、嘴\n",
    "'''\n",
    "def shiftKeyPoses(new_width, centroid, keyposes, config):   \n",
    "    #Scale keypose based on head width to accomodate for translation or different video size.\n",
    "    width_keypose = (keyposes[0][67][0]-keyposes[0][51][0]) # 表情基中第一个姿态的人脸宽度\n",
    "    width_fac = width_keypose/new_width # 表情基脸宽/真人脸宽\n",
    "    \n",
    "    keyposes = np.divide(keyposes, [width_fac,width_fac]).astype(int) # 依据比例系数，将所有表情基关键点缩放到真人面部大小\n",
    "    \n",
    "    new_poses = []\n",
    "    \n",
    "    for i in range(keyposes.shape[0]): # 遍历所有的表情基\n",
    "        #For brows we take average of eyes points\n",
    "        if config == 'brows': \n",
    "            keypose = np.array(keyposes[i][10:22])\n",
    "        #Fo mouth we take average of mouth points\n",
    "        if config == 'mouth':\n",
    "            keypose = np.array(keyposes[i][31:51])\n",
    "            \n",
    "        centroid_keypose = keypose.mean(0) #表情基中眉毛或者嘴部的中心\n",
    "        delta = centroid_keypose-centroid # 表情基眉毛或嘴中心与真人眉毛或嘴中心的偏移量\n",
    "        \n",
    "        new_pose = keyposes[i]-delta.astype(int) # 利用中心偏移量 重新调整表情基的位置\n",
    "        new_poses.append(new_pose) # 将新的表情基加入数组中返回\n",
    "        \n",
    "    return np.array(new_poses)"
   ]
  },
  {
   "cell_type": "code",
   "execution_count": 8,
   "metadata": {},
   "outputs": [],
   "source": [
    "'''\n",
    "嘴部BS\n",
    "'''\n",
    "# 对齐keypose和真人嘴部关键点\n",
    "mouth_center = testpose[31:51].mean(0)\n",
    "shift_kps_mouth = shiftKeyPoses(width_points,mouth_center,keyposes_mouth,\"mouth\")\n",
    "# 重组嘴部坐标，便于计算\n",
    "target_mouth = testpose[31:51].reshape((1,-1))\n",
    "dict_2d_mouth = []\n",
    "for i in range(shift_kps_mouth.shape[0]):\n",
    "    dict_2d_mouth.append(shift_kps_mouth[i][31:51])\n",
    "dict_2d_mouth = np.array(dict_2d_mouth).reshape(shift_kps_mouth.shape[0],-1)\n",
    "# 提取嘴部运动的系数\n",
    "coder = SparseCoder(dictionary=dict_2d_mouth.astype(\"float32\"),transform_n_nonzero_coefs=None,transform_alpha=10,transform_algorithm='lasso_lars')\n",
    "coeffs = coder.transform(target_mouth.astype(\"float32\"))"
   ]
  },
  {
   "cell_type": "markdown",
   "metadata": {},
   "source": [
    "# 验证BS"
   ]
  },
  {
   "cell_type": "code",
   "execution_count": 9,
   "metadata": {},
   "outputs": [],
   "source": [
    "def getVerts(objfile):\n",
    "    vertices = []\n",
    "    for line in open(objfile, \"r\"):\n",
    "        values = line.split()\n",
    "        if(values==[]):\n",
    "            continue\n",
    "        if(values=='#'):\n",
    "            continue\n",
    "        if(values[0]=='v'):\n",
    "            vertices.append([float(values[1]),float(values[2]),float(values[3])])    \n",
    "    return np.array(vertices)\n",
    "\n",
    "def writeResult(verts):\n",
    "    f = open(\"./data/Basis.obj\",'r')\n",
    "    contents = f.readlines()\n",
    "    i = 0\n",
    "    for idx in range(len(contents)):\n",
    "        if 'v ' in contents[idx]:\n",
    "            contents[idx] = 'v {0} {1} {2} \\n'.format(str(verts[i][0]),str(verts[i][1]),str(verts[i][2]))\n",
    "            i = i + 1\n",
    "    fn = open(\"./test/result.obj\",'w')\n",
    "    fn.writelines(contents)\n",
    "    fn.close()\n",
    "    f.close()"
   ]
  },
  {
   "cell_type": "code",
   "execution_count": 10,
   "metadata": {},
   "outputs": [],
   "source": [
    "# 获取BS偏移量\n",
    "# 0：Neutral\n",
    "basicVerts = getVerts('./data/Basis.obj')\n",
    "# 1：Jaw Open\n",
    "jawopenVerts = getVerts('./data/jawOpen.obj')\n",
    "# 2：Closed Smile\n",
    "closesmileVerts = getVerts('./data/mouthSmile.obj')\n",
    "# 3：Smile Left\n",
    "smileleftVerts = getVerts('./data/mouthSmileLeft.obj')\n",
    "# 4：Smile Right\n",
    "smilerightVerts = getVerts('./data/mouthSmileRight.obj')\n",
    "# 5：Mouth Frown\n",
    "mouthfrownVerts = getVerts('./data/mouthFrown.obj')\n",
    "# 6：Lip Funnel\n",
    "lipfunnelVerts = getVerts('./data/mouthFunnel.obj')\n",
    "# 7：Lip Pucker\n",
    "lippuckerVerts = getVerts('./data/mouthPucker.obj')\n",
    "\n",
    "offset = []\n",
    "offset.append(basicVerts-basicVerts)\n",
    "offset.append(jawopenVerts-basicVerts)\n",
    "offset.append(closesmileVerts-basicVerts)\n",
    "offset.append(smileleftVerts-basicVerts)\n",
    "offset.append(smilerightVerts-basicVerts)\n",
    "offset.append(mouthfrownVerts-basicVerts)\n",
    "offset.append(lipfunnelVerts-basicVerts)\n",
    "offset.append(lippuckerVerts-basicVerts)\n",
    "\n",
    "offset = np.array(offset,dtype=\"float32\")"
   ]
  },
  {
   "cell_type": "code",
   "execution_count": 11,
   "metadata": {},
   "outputs": [],
   "source": [
    "# 根据系数组合BS\n",
    "newVert = basicVerts\n",
    "for i in range(offset.shape[0]):\n",
    "    newVert = newVert + coeffs[0,i]*offset[i]\n",
    "writeResult(newVert)"
   ]
  },
  {
   "cell_type": "code",
   "execution_count": null,
   "metadata": {},
   "outputs": [],
   "source": []
  }
 ],
 "metadata": {
  "kernelspec": {
   "display_name": "Python 3",
   "language": "python",
   "name": "python3"
  },
  "language_info": {
   "codemirror_mode": {
    "name": "ipython",
    "version": 3
   },
   "file_extension": ".py",
   "mimetype": "text/x-python",
   "name": "python",
   "nbconvert_exporter": "python",
   "pygments_lexer": "ipython3",
   "version": "3.7.6"
  }
 },
 "nbformat": 4,
 "nbformat_minor": 4
}
