{
 "cells": [
  {
   "cell_type": "code",
   "execution_count": 1,
   "id": "ea0e6e19",
   "metadata": {},
   "outputs": [],
   "source": [
    "import numpy as np\n",
    "from collections import defaultdict\n",
    "\n",
    "import scipy.sparse as sparse\n",
    "import scipy.sparse.linalg as sparse_linalg\n",
    "from scipy.spatial import cKDTree\n",
    "\n",
    "np.set_printoptions(suppress=True)"
   ]
  },
  {
   "cell_type": "code",
   "execution_count": 2,
   "id": "82054b46",
   "metadata": {},
   "outputs": [],
   "source": [
    "'''\n",
    "description：read obj file\n",
    "input: obj file name\n",
    "return: obj vertices and face indices\n",
    "'''\n",
    "def readOBJ(filename):\n",
    "    vertices = []\n",
    "    vertex_norm = []\n",
    "    vertex_tex = []\n",
    "    triangles = []\n",
    "    texcoords = []\n",
    "    for line in open(filename, \"r\"):\n",
    "        values = line.split()\n",
    "        if(values==[]):\n",
    "            continue\n",
    "        if(values=='#'):\n",
    "            continue\n",
    "        if(values[0]=='v'):\n",
    "            vertices.append([float(values[1]),float(values[2]),float(values[3])])\n",
    "        if(values[0]=='vn'):\n",
    "            vertex_norm.append([float(values[1]),float(values[2]),float(values[3])])\n",
    "        if(values[0]=='vt'):\n",
    "            vertex_tex.append([float(values[1]),float(values[2]),float(values[3])])\n",
    "        if(values[0]=='f'):\n",
    "            face=[]\n",
    "            texcoord = []\n",
    "            norm = []\n",
    "            for v in values[1:]:\n",
    "                w = v.split('/')\n",
    "                face.append(int(w[0]))\n",
    "                if(len(w)>=2 and len(w[1])>0):\n",
    "                    texcoord.append(int(w[1]))\n",
    "                else:\n",
    "                    texcoord.append(-1)\n",
    "                if(len(w)>=3 and len(w[2])>0):\n",
    "                    norm.append(int(w[2]))\n",
    "                else:\n",
    "                    norm.append(-1)\n",
    "            triangles.append(face)\n",
    "            texcoords.append(texcoord)\n",
    "    return np.array(vertices),np.array(triangles)-1"
   ]
  },
  {
   "cell_type": "code",
   "execution_count": 3,
   "id": "e3223f27",
   "metadata": {},
   "outputs": [],
   "source": [
    "'''\n",
    "计算邻接三角面\n",
    "'''\n",
    "def compute_adjacent_by_edges(objFaces):\n",
    "    # 每条边涉及到哪些面\n",
    "    candidates = defaultdict(set)\n",
    "    for i in range(objFaces.shape[0]):\n",
    "        f0, f1, f2 = sorted(objFaces[i])\n",
    "        candidates[(f0, f1)].add(i) # 注意i是面索引\n",
    "        candidates[(f0, f2)].add(i)\n",
    "        candidates[(f1, f2)].add(i)\n",
    "    # 每个面与哪些面邻接；candidates的value存的就是共享边的面\n",
    "    faces_adjacent = defaultdict(set)  # Face -> Faces\n",
    "    for faces in candidates.values():\n",
    "        for f in faces:\n",
    "            faces_adjacent[f].update(faces)\n",
    "    # 按面的顺序排列所有邻接面\n",
    "    faces_sort = []\n",
    "    for f, adj in faces_adjacent.items():\n",
    "        exclude_f = []\n",
    "        for a in adj :\n",
    "            if a != f:\n",
    "                exclude_f.append(a)\n",
    "        faces_sort.append([f,exclude_f])\n",
    "    faces_sort = sorted(faces_sort, key=lambda e: e[0])\n",
    "    # 只返回邻接面\n",
    "    faces_adj = []\n",
    "    for _,ff in faces_sort:\n",
    "        faces_adj.append(ff)\n",
    "    return faces_adj"
   ]
  },
  {
   "cell_type": "code",
   "execution_count": 4,
   "id": "a90d46dd",
   "metadata": {},
   "outputs": [],
   "source": [
    "'''\n",
    "按照论文计算面法线，并将法线作为每个面的第4个顶点\n",
    "返回：\n",
    "第1维代表面索引，第2、3维记录了三个方向，每列为一个方向(面2个方向，法线1个方向)\n",
    "新的顶点：在原始基础上添加了法线顶点\n",
    "新的面索引：法线顶点的索引\n",
    "'''\n",
    "def compute_face_norms(verts,faces):\n",
    "    fnorms = []\n",
    "    v4 = []\n",
    "    # 计算每个面片的三组方向\n",
    "    for f in faces:\n",
    "        v1 = verts[f[0]]\n",
    "        v2 = verts[f[1]]\n",
    "        v3 = verts[f[2]]\n",
    "        a = v2 - v1\n",
    "        b = v3 - v1\n",
    "        tmp = np.cross(a, b)\n",
    "        c = tmp.T / np.linalg.norm(tmp)\n",
    "        fnorms.append([a,b,c])\n",
    "        # 更新顶点，添加第四个顶点\n",
    "        v4.append(v1+c)\n",
    "    fnorms = np.array(fnorms)     \n",
    "    v4 = np.array(v4)\n",
    "    new_verts = np.concatenate((verts,v4),axis=0)\n",
    "    # 更新面片顶点索引\n",
    "    v4_indices = np.arange(verts.shape[0],verts.shape[0]+v4.shape[0])\n",
    "    new_faces = np.concatenate((faces,v4_indices.reshape((-1,1))),axis=1)\n",
    "    return np.transpose(fnorms, (0, 2, 1)),new_verts,new_faces\n",
    "\n",
    "'''\n",
    "计算顶点法线：面法线的平均\n",
    "'''\n",
    "def compute_vert_norms(faceNorms,faces):\n",
    "    vf = defaultdict(set)\n",
    "    # 每个顶点与哪些面片有关\n",
    "    for n, (f0, f1, f2) in enumerate(faces[:, :3]):\n",
    "        vf[f0].add(n)\n",
    "        vf[f1].add(n)\n",
    "        vf[f2].add(n)\n",
    "    # 计算每个顶点的法线，用面法线的平均\n",
    "    vn = np.zeros((len(vf),3))\n",
    "    for i in range(len(vf)):\n",
    "        vn[i] = np.mean(faceNorms[list(vf[i])],axis=0)\n",
    "        vn[i] = vn[i] / np.linalg.norm(vn[i])\n",
    "    return vn"
   ]
  },
  {
   "cell_type": "code",
   "execution_count": 5,
   "id": "57f821ae",
   "metadata": {},
   "outputs": [],
   "source": [
    "'''\n",
    "创建稀疏矩阵\n",
    "'''\n",
    "row = np.array([0, 1, 2] * 4)\n",
    "def expand(f, inv, size):\n",
    "    i0, i1, i2, i3 = f\n",
    "    col = np.array([i0, i0, i0, i1, i1, i1, i2, i2, i2, i3, i3, i3])\n",
    "    data = np.concatenate([-inv.sum(axis=0), *inv])\n",
    "    return sparse.coo_matrix((data, (row, col)), shape=(3, size), dtype=float)\n",
    "def construct(faces, invVs, size):\n",
    "        assert len(faces) == len(invVs)\n",
    "        return sparse.vstack([expand(f, inv, size) for f, inv in zip(faces, invVs)], dtype=float)"
   ]
  },
  {
   "cell_type": "code",
   "execution_count": 6,
   "id": "9df6aa1f",
   "metadata": {},
   "outputs": [],
   "source": [
    "'''\n",
    "定义损失函数：identity_cost\n",
    "'''\n",
    "def construct_identity_cost(faces,invVs,verts):\n",
    "    AEi = construct(faces,invVs,verts.shape[0])\n",
    "    AEi.eliminate_zeros()\n",
    "    Bi = np.tile(np.identity(3, dtype=float), (len(faces), 1))\n",
    "    assert AEi.shape[0] == Bi.shape[0]\n",
    "    return AEi.tocsr(), Bi\n",
    "\n",
    "'''\n",
    "定义损失函数:smooth_cost\n",
    "'''\n",
    "def construct_smoothness_cost(faces,invVs,verts,adjacent):\n",
    "    # 预先计算并保存\n",
    "    lhs = []\n",
    "    rhs = []\n",
    "    face_idx = 0\n",
    "    for f,inv in zip(faces,invVs):\n",
    "        for adjIndex in adjacent[face_idx]:            \n",
    "            lhs.append(expand(f,inv,verts.shape[0]).tocsc())\n",
    "            rhs.append(expand(faces[adjIndex],invVs[adjIndex],verts.shape[0]).tocsc())\n",
    "        face_idx = face_idx + 1\n",
    "    AEs = sparse.vstack(lhs) - sparse.vstack(rhs)\n",
    "    sparse.save_npz(\"cat-lion.npz\",AEs)\n",
    "#     AEs = sparse.load_npz(\"head.npz\")\n",
    "    AEs.eliminate_zeros()\n",
    "    \n",
    "    count_adjacent = sum(len(a) for a in adjacent)\n",
    "    Bs = np.zeros((count_adjacent * 3, 3))\n",
    "    assert AEs.shape[0] == Bs.shape[0]\n",
    "    return AEs, Bs"
   ]
  },
  {
   "cell_type": "code",
   "execution_count": 7,
   "id": "c6cbe775",
   "metadata": {},
   "outputs": [],
   "source": [
    "'''\n",
    "解方程 `Ax=b`\n",
    "'''\n",
    "def apply_markers(A, b, target, markers):\n",
    "    \"\"\"\n",
    "    Ei的形变量接近单位阵\n",
    "    Es的形变量是邻接面的形变量接近\n",
    "    :param A: Matrix (NxM)\n",
    "    :param b: Result vector (Nx3)\n",
    "    :param target: Target mesh\n",
    "    :param markers: Marker (Qx2) with first column the source indices and the second the target indices.\n",
    "    :return: Matrix (Nx(M-Q)), result vector (Nx3)\n",
    "    \"\"\"\n",
    "    assert markers.ndim == 2 and markers.shape[1] == 2\n",
    "    invmarker = np.setdiff1d(np.arange(A.shape[1]), markers[:, 0])# 不在marker中的点\n",
    "    zb = b - A[:, markers.T[0]] * target[markers.T[1]] # 使得形变量接近b\n",
    "    return A[:, invmarker].tocsc(), zb"
   ]
  },
  {
   "cell_type": "code",
   "execution_count": 8,
   "id": "c21bdbe4",
   "metadata": {},
   "outputs": [],
   "source": [
    "def get_closet_points(kd_tree,verts,verts_norms,target_normal,max_angle=np.radians(90),ks=200):\n",
    "    '''\n",
    "    寻找最近点，同时满足法线角度差小于max_angle,寻找最近点的数量不大于ks\n",
    "    '''\n",
    "    assert len(verts) == len(verts_norms),\"source verts and norms is not same length\"\n",
    "    closest_points = []\n",
    "    dists,indices = kd_tree.query(verts,min(len(target_normal),ks)) # 找到在最近点的距离和索引\n",
    "    for i,(dist,ind) in enumerate(zip(dists,indices)):\n",
    "        angles = np.arccos(np.dot(target_normal[ind],verts_norms[i]))\n",
    "        if((np.abs(angles)<max_angle).any()):\n",
    "            cind = ind[np.abs(angles)<max_angle][0]\n",
    "            closest_points.append([i,cind])\n",
    "    return np.array(closest_points)"
   ]
  },
  {
   "cell_type": "code",
   "execution_count": 9,
   "id": "af21fd63",
   "metadata": {},
   "outputs": [],
   "source": [
    "def revert_marks(A,x,target_v,markers,out):\n",
    "    if out is None:\n",
    "        out = np.zeros((A.shape[1] + len(markers), 3))\n",
    "    else:\n",
    "        assert out.shape == (A.shape[1] + len(markers), 3)\n",
    "    invmarker = np.setdiff1d(np.arange(out.shape[0]),markers[:,0])\n",
    "    out[invmarker] = x\n",
    "    out[markers[:,0]] = target_v[markers[:,1]]\n",
    "    return out"
   ]
  },
  {
   "cell_type": "code",
   "execution_count": 10,
   "id": "bbb64072",
   "metadata": {},
   "outputs": [],
   "source": [
    "# 每个面片的中心\n",
    "def get_centroids(v,f):\n",
    "    return v[f[:,:3]].mean(axis=1)\n",
    "\n",
    "def max_triangle_length(v,faces):\n",
    "    fnorms = []\n",
    "    max_len = 0.0\n",
    "    # 计算每个面片的三组方向\n",
    "    for f in faces:\n",
    "        v1 = v[f[0]]\n",
    "        v2 = v[f[1]]\n",
    "        v3 = v[f[2]]\n",
    "        a = v2 - v1\n",
    "        b = v3 - v1\n",
    "        if(max_len<max(max_len,np.linalg.norm(a),np.linalg.norm(b))):\n",
    "            max_len = max(max_len,np.linalg.norm(a),np.linalg.norm(b))\n",
    "    return max_len\n",
    "\n",
    "def get_closet_triangles(vn1,vn2,center1,center2,radius):\n",
    "    max_angle = np.radians(90)\n",
    "    k = 500\n",
    "    triangles = set()\n",
    "    kkd_tree = cKDTree(center2)\n",
    "    dists,indicies = kkd_tree.query(center1,min(center2.shape[0],k))\n",
    "    for index_source,(dist,ind) in enumerate(zip(dists,indicies)):\n",
    "        angles = np.arccos(np.dot(vn2[ind],vn1[index_source]))\n",
    "        if((angles<max_angle).any()):\n",
    "            index_target = ind[angles<max_angle][0]\n",
    "            triangles.add((index_source,index_target))\n",
    "    return triangles\n",
    "\n",
    "def match_triangles(v1,v2,f1,f2,vn1,vn2,factor=2):\n",
    "    source_f_center = get_centroids(v1,f1)\n",
    "    target_f_center = get_centroids(v2,f2)   \n",
    "    radius = max(max_triangle_length(v1,f1),max_triangle_length(v2,f2))*factor \n",
    "    triangles = get_closet_triangles(vn1,vn2,source_f_center,target_f_center,radius)\n",
    "    tmp_triangles = get_closet_triangles(vn2,vn1,target_f_center,source_f_center,radius)\n",
    "    triangles.update((t[1],t[0]) for t in tmp_triangles)\n",
    "    return list(triangles)"
   ]
  },
  {
   "cell_type": "markdown",
   "id": "a03754b9",
   "metadata": {},
   "source": [
    "# 逐步进行"
   ]
  },
  {
   "cell_type": "code",
   "execution_count": 11,
   "id": "d68225a6",
   "metadata": {},
   "outputs": [],
   "source": [
    "# 手动挑选的一部分对应点\n",
    "# marks=np.array([[14387,14537],[17495,1775], [17661,1773], [17514,7180],[17518,7223], [23208,5808], [22815,14658], [23380,9424], [22954,4674], \n",
    "# [22807,14441],[22945,5914], [22825,15615], [22963,15629], [4694,13863],  [10481,13664], [5868,1998],  [5979,1957], [6173,7448], [6332,7406],    \n",
    "# [5182,1912], [6834,1929], [5500,7361], [7172,14939], [3240,1496], [3291,11681], [28675,14405], [14308,6597], [14619,9671], [1078,6203],\n",
    "# [779,11588],[24739,2486], [25242,7923],[11,4241]])\n",
    "marks = np.array([[2653,1316],[2620,1412],[2141,920],[1570,827],[6855,4585 ],[6533,4655],[5752,4199 ],[5819,4130 ],[5185,3998 ],[6194,4454 ],\n",
    "                  [6313,4456 ],[5257,3985 ],[2422,1156],[1441,670],[2405,1224],[1430,738],[648,263],[173,66],[82,40],[7179,4979],[5106,3913],\n",
    "                  [288,4365],[190,84],[444,253],[1151,345],[786,489],[38,3904],[266,90],[912,394],[3272,1603],[4967,2285],[3947,3623],\n",
    "                  [3401,2775],[4988,2654],[3999,3682],[4315,1859],[3454,2875],[4263,1811],[3510,2889],[4078,1833],[4213,2727],[4186,2733],\n",
    "                  [4181,2822],[4010,3778],[4047,3762],[3587,3839],[3540,2804],[3677,2581],[4698,2422],[3804,3056],[4816,2398],[4773,2321],\n",
    "                  [3757,3453],[3695,3268],[3236,1641]])"
   ]
  },
  {
   "cell_type": "code",
   "execution_count": 12,
   "id": "4484d388",
   "metadata": {},
   "outputs": [],
   "source": [
    "# 读取原始模型顶点和面片\n",
    "source_org_v,source_org_f = readOBJ(\"./model/cat-lion/cat/cat-reference.obj\")#readOBJ(\"./model/face/sourceface/face-reference.obj\")#\n",
    "target_org_v,target_org_f = readOBJ(\"./model/cat-lion/lion/lion-reference.obj\") #readOBJ(\"./model/face/targetface/head-reference.obj\")#"
   ]
  },
  {
   "cell_type": "code",
   "execution_count": 13,
   "id": "4e6e3297",
   "metadata": {
    "scrolled": false
   },
   "outputs": [],
   "source": [
    "# 计算邻接面\n",
    "source_face_adj = compute_adjacent_by_edges(source_org_f)\n",
    "target_face_adj = compute_adjacent_by_edges(target_org_f)"
   ]
  },
  {
   "cell_type": "code",
   "execution_count": 14,
   "id": "1eda708f",
   "metadata": {},
   "outputs": [],
   "source": [
    "# 计算法线，重置顶点和面片索引(因为对每个面添加第四个顶点)\n",
    "source_f_norms,source_v,source_f = compute_face_norms(source_org_v,source_org_f)\n",
    "invVs = np.linalg.inv(source_f_norms)\n",
    "target_f_norms,target_v,target_f = compute_face_norms(target_org_v,target_org_f)"
   ]
  },
  {
   "cell_type": "code",
   "execution_count": 15,
   "id": "3c151b45",
   "metadata": {
    "scrolled": false
   },
   "outputs": [],
   "source": [
    "# 计算Ei损失\n",
    "Ei,Bi = construct_identity_cost(source_f,invVs,source_v)\n",
    "EiSelect,EiLoss = apply_markers(Ei,Bi,target_v,marks)\n",
    "Es,Bs = construct_smoothness_cost(source_f,invVs,source_v,source_face_adj)\n",
    "EsSelect,EsLoss = apply_markers(Es,Bs,target_v,marks)"
   ]
  },
  {
   "cell_type": "code",
   "execution_count": 16,
   "id": "c9981842",
   "metadata": {
    "scrolled": true
   },
   "outputs": [],
   "source": [
    "# 建立KD树，便于查找最近点\n",
    "kd_tree_target = cKDTree(target_org_v)\n",
    "target_vn = compute_vert_norms(target_f_norms[...,-1],target_org_f)"
   ]
  },
  {
   "cell_type": "code",
   "execution_count": 17,
   "id": "440e4d83",
   "metadata": {},
   "outputs": [],
   "source": [
    "# 论文中的迭代\n",
    "# 损失函数权重\n",
    "Ws = 1.0\n",
    "Wi = 0.001\n",
    "Wc = [0, 10, 50, 250, 1000, 2000, 3000, 5000]\n",
    "\n",
    "iterations = len(Wc)\n",
    "total_steps = 3  # Steps per iteration"
   ]
  },
  {
   "cell_type": "code",
   "execution_count": 18,
   "id": "7bc166cd",
   "metadata": {
    "scrolled": false
   },
   "outputs": [],
   "source": [
    "vertices_copy = source_v.copy()\n",
    "vertices_fnorm_copy = source_f_norms.copy()\n",
    "for iteration in range(iterations):\n",
    "    Astack = [EiSelect * Wi, EsSelect * Ws]\n",
    "    Bstack = [EiLoss * Wi, EsLoss * Ws]    \n",
    "    if(iteration>0 and Wc[iteration]!=0):\n",
    "        AEc = sparse.identity(source_v.shape[0], dtype=float, format=\"csc\")[:source_org_v.shape[0]]\n",
    "        vertices_clipped = vertices_copy[:source_org_v.shape[0]]        \n",
    "        # 从source中获取到与target顶点的最近点，且满足法线夹角约束\n",
    "        closest_points = get_closet_points(kd_tree_target,vertices_clipped,compute_vert_norms(vertices_fnorm_copy[...,-1],source_org_f),target_vn)\n",
    "        AEc = AEc[closest_points[:,0]]\n",
    "        Bc = target_v[closest_points[:,1]]        \n",
    "        mAEc,mBc = apply_markers(AEc,Bc,target_v,marks)\n",
    "        Astack.append(mAEc * Wc[iteration])\n",
    "        Bstack.append(mBc * Wc[iteration])        \n",
    "        \n",
    "    A = sparse.vstack(Astack,format=\"csc\")\n",
    "    A.eliminate_zeros()\n",
    "    b = np.concatenate(Bstack)\n",
    "    LU = sparse_linalg.splu((A.T @ A).tocsc())\n",
    "    x = LU.solve(A.T @ b)\n",
    "    # 重建顶点\n",
    "    vertices_copy = revert_marks(A,x,target_v,marks,vertices_copy) \n",
    "    vertices_fnorm_copy,vertices_copy,_ = compute_face_norms(vertices_copy[:source_org_v.shape[0]],source_org_f)"
   ]
  },
  {
   "cell_type": "code",
   "execution_count": 19,
   "id": "4318b8aa",
   "metadata": {
    "scrolled": true
   },
   "outputs": [],
   "source": [
    "result_v = vertices_copy\n",
    "result_f = source_org_f\n",
    "result_fn = vertices_fnorm_copy[...,-1]"
   ]
  },
  {
   "cell_type": "code",
   "execution_count": 20,
   "id": "4ef50813",
   "metadata": {
    "scrolled": false
   },
   "outputs": [],
   "source": [
    "coresponding = match_triangles(result_v,target_v,result_f,target_f,result_fn,target_f_norms[...,-1])"
   ]
  },
  {
   "cell_type": "code",
   "execution_count": 21,
   "id": "d48e0497",
   "metadata": {},
   "outputs": [],
   "source": [
    "import pickle\n",
    "with open(\"cat-lion.txt\", \"wb\") as fp:   #Pickling\n",
    "    pickle.dump(coresponding, fp)"
   ]
  },
  {
   "cell_type": "code",
   "execution_count": null,
   "id": "43aad279",
   "metadata": {},
   "outputs": [],
   "source": []
  }
 ],
 "metadata": {
  "kernelspec": {
   "display_name": "Python 3",
   "language": "python",
   "name": "python3"
  },
  "language_info": {
   "codemirror_mode": {
    "name": "ipython",
    "version": 3
   },
   "file_extension": ".py",
   "mimetype": "text/x-python",
   "name": "python",
   "nbconvert_exporter": "python",
   "pygments_lexer": "ipython3",
   "version": "3.9.5"
  }
 },
 "nbformat": 4,
 "nbformat_minor": 5
}
