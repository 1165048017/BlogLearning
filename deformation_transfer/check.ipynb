{
 "cells": [
  {
   "cell_type": "code",
   "execution_count": 1,
   "id": "b9af7a37",
   "metadata": {},
   "outputs": [],
   "source": [
    "import numpy as np\n",
    "import scipy.sparse as sparse"
   ]
  },
  {
   "cell_type": "code",
   "execution_count": 10,
   "id": "130a1f95",
   "metadata": {},
   "outputs": [
    {
     "data": {
      "text/plain": [
       "0"
      ]
     },
     "execution_count": 10,
     "metadata": {},
     "output_type": "execute_result"
    }
   ],
   "source": [
    "ori = np.loadtxt(\"D:\\code\\python\\Deformation-Transfer-for-Triangle-Meshes/target_centroids.txt\")\n",
    "test = np.loadtxt(\"target_centroids.txt\")\n",
    "np.sum(ori!=test)"
   ]
  },
  {
   "cell_type": "code",
   "execution_count": 3,
   "id": "56ef9b00",
   "metadata": {
    "scrolled": true
   },
   "outputs": [
    {
     "data": {
      "text/plain": [
       "array([[ 1.13492390e-06, -4.69729371e+00,  6.22990081e+00],\n",
       "       [-7.71088443e-01,  9.94145112e+00,  4.66314592e+00],\n",
       "       [-7.80279876e-01,  9.93720028e+00,  4.66381962e+00]])"
      ]
     },
     "execution_count": 3,
     "metadata": {},
     "output_type": "execute_result"
    }
   ],
   "source": [
    "ori[29298:29301]"
   ]
  },
  {
   "cell_type": "code",
   "execution_count": 4,
   "id": "a9979ae0",
   "metadata": {},
   "outputs": [
    {
     "data": {
      "text/plain": [
       "array([[ 1.13492390e-06, -4.69729371e+00,  6.22990081e+00],\n",
       "       [-7.71088443e-01,  9.94145112e+00,  4.66314592e+00],\n",
       "       [-7.80279876e-01,  9.93720028e+00,  4.66381962e+00]])"
      ]
     },
     "execution_count": 4,
     "metadata": {},
     "output_type": "execute_result"
    }
   ],
   "source": [
    "test[29298:29301]"
   ]
  },
  {
   "cell_type": "code",
   "execution_count": 5,
   "id": "6e4625eb",
   "metadata": {},
   "outputs": [],
   "source": [
    "# ori = sparse.load_npz(\"D:/code/python/Deformation-Transfer-for-Triangle-Meshes/1Astack.npz\")\n",
    "# test = sparse.load_npz(\"1Astack.npz\")\n",
    "# np.sum(ori.data!=test.data)"
   ]
  },
  {
   "cell_type": "code",
   "execution_count": null,
   "id": "85d0d106",
   "metadata": {},
   "outputs": [],
   "source": []
  }
 ],
 "metadata": {
  "kernelspec": {
   "display_name": "Python 3",
   "language": "python",
   "name": "python3"
  },
  "language_info": {
   "codemirror_mode": {
    "name": "ipython",
    "version": 3
   },
   "file_extension": ".py",
   "mimetype": "text/x-python",
   "name": "python",
   "nbconvert_exporter": "python",
   "pygments_lexer": "ipython3",
   "version": "3.9.5"
  }
 },
 "nbformat": 4,
 "nbformat_minor": 5
}
