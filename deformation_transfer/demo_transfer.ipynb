{
 "cells": [
  {
   "cell_type": "code",
   "execution_count": 1,
   "id": "f0ed948a",
   "metadata": {},
   "outputs": [],
   "source": [
    "import numpy as np\n",
    "from collections import defaultdict\n",
    "\n",
    "import pickle\n",
    "import scipy.sparse as sparse\n",
    "import scipy.sparse.linalg as sparse_linalg\n",
    "from scipy.spatial import cKDTree\n",
    "\n",
    "np.set_printoptions(suppress=True)"
   ]
  },
  {
   "cell_type": "code",
   "execution_count": 2,
   "id": "81671610",
   "metadata": {},
   "outputs": [],
   "source": [
    "'''\n",
    "description：read obj file\n",
    "input: obj file name\n",
    "return: obj vertices and face indices\n",
    "'''\n",
    "def readOBJ(filename):\n",
    "    vertices = []\n",
    "    vertex_norm = []\n",
    "    vertex_tex = []\n",
    "    triangles = []\n",
    "    texcoords = []\n",
    "    for line in open(filename, \"r\"):\n",
    "        values = line.split()\n",
    "        if(values==[]):\n",
    "            continue\n",
    "        if(values=='#'):\n",
    "            continue\n",
    "        if(values[0]=='v'):\n",
    "            vertices.append([float(values[1]),float(values[2]),float(values[3])])\n",
    "        if(values[0]=='vn'):\n",
    "            vertex_norm.append([float(values[1]),float(values[2]),float(values[3])])\n",
    "        if(values[0]=='vt'):\n",
    "            vertex_tex.append([float(values[1]),float(values[2]),float(values[3])])\n",
    "        if(values[0]=='f'):\n",
    "            face=[]\n",
    "            texcoord = []\n",
    "            norm = []\n",
    "            for v in values[1:]:\n",
    "                w = v.split('/')\n",
    "                face.append(int(w[0]))\n",
    "                if(len(w)>=2 and len(w[1])>0):\n",
    "                    texcoord.append(int(w[1]))\n",
    "                else:\n",
    "                    texcoord.append(-1)\n",
    "                if(len(w)>=3 and len(w[2])>0):\n",
    "                    norm.append(int(w[2]))\n",
    "                else:\n",
    "                    norm.append(-1)\n",
    "            triangles.append(face)\n",
    "            texcoords.append(texcoord)\n",
    "    return np.array(vertices),np.array(triangles)-1"
   ]
  },
  {
   "cell_type": "code",
   "execution_count": 3,
   "id": "21a9e834",
   "metadata": {},
   "outputs": [],
   "source": [
    "def saveObj(verts,fvidxs,name):\n",
    "    f = open(name,'w')\n",
    "    color = np.random.rand(3)\n",
    "    for v in verts:\n",
    "        f.write(\"v {0} {1} {2} {3} {4} {5} \\n\".format(v[0],v[1],v[2],color[0],color[1],color[2]))\n",
    "    for fv in fvidxs:\n",
    "        f.write(\"f \")\n",
    "        for ii in range(len(fv)):\n",
    "            f.write(\"{0} \".format(fv[ii]+1))\n",
    "        f.write(\"\\n\")\n",
    "    f.close()"
   ]
  },
  {
   "cell_type": "code",
   "execution_count": 4,
   "id": "ce6a48be",
   "metadata": {},
   "outputs": [],
   "source": [
    "def compute_face_norms(verts,faces):\n",
    "    fnorms = []\n",
    "    v4 = []\n",
    "    # 计算每个面片的三组方向\n",
    "    for f in faces:\n",
    "        v1 = verts[f[0]]\n",
    "        v2 = verts[f[1]]\n",
    "        v3 = verts[f[2]]\n",
    "        a = v2 - v1\n",
    "        b = v3 - v1\n",
    "        tmp = np.cross(a, b)\n",
    "        c = tmp.T / np.linalg.norm(tmp)\n",
    "        fnorms.append([a,b,c])\n",
    "        # 更新顶点，添加第四个顶点\n",
    "        v4.append(v1+c)\n",
    "    fnorms = np.array(fnorms)     \n",
    "    v4 = np.array(v4)\n",
    "    new_verts = np.concatenate((verts,v4),axis=0)\n",
    "    # 更新面片顶点索引\n",
    "    v4_indices = np.arange(verts.shape[0],verts.shape[0]+v4.shape[0])\n",
    "    new_faces = np.concatenate((faces,v4_indices.reshape((-1,1))),axis=1)\n",
    "    return np.transpose(fnorms, (0, 2, 1)),new_verts,new_faces"
   ]
  },
  {
   "cell_type": "code",
   "execution_count": 5,
   "id": "9a90c973",
   "metadata": {},
   "outputs": [],
   "source": [
    "'''\n",
    "创建稀疏矩阵\n",
    "'''\n",
    "row = np.array([0, 1, 2] * 4)\n",
    "def expand(f, inv, size):\n",
    "    i0, i1, i2, i3 = f\n",
    "    col = np.array([i0, i0, i0, i1, i1, i1, i2, i2, i2, i3, i3, i3])\n",
    "    data = np.concatenate([-inv.sum(axis=0), *inv])\n",
    "    return sparse.coo_matrix((data, (row, col)), shape=(3, size), dtype=float)\n",
    "def construct(faces, invVs, size):\n",
    "        assert len(faces) == len(invVs)\n",
    "        return sparse.vstack([expand(f, inv, size) for f, inv in zip(faces, invVs)], dtype=float)"
   ]
  },
  {
   "cell_type": "code",
   "execution_count": 6,
   "id": "b2ce9967",
   "metadata": {},
   "outputs": [],
   "source": [
    "'''\n",
    "计算邻接三角面\n",
    "'''\n",
    "def compute_adjacent_by_edges(objFaces):\n",
    "    # 每条边涉及到哪些面\n",
    "    candidates = defaultdict(set)\n",
    "    for i in range(objFaces.shape[0]):\n",
    "        f0, f1, f2 = sorted(objFaces[i])\n",
    "        candidates[(f0, f1)].add(i) # 注意i是面索引\n",
    "        candidates[(f0, f2)].add(i)\n",
    "        candidates[(f1, f2)].add(i)\n",
    "    # 每个面与哪些面邻接；candidates的value存的就是共享边的面\n",
    "    faces_adjacent = defaultdict(set)  # Face -> Faces\n",
    "    for faces in candidates.values():\n",
    "        for f in faces:\n",
    "            faces_adjacent[f].update(faces)\n",
    "    # 按面的顺序排列所有邻接面\n",
    "    faces_sort = []\n",
    "    for f, adj in faces_adjacent.items():\n",
    "        exclude_f = []\n",
    "        for a in adj :\n",
    "            if a != f:\n",
    "                exclude_f.append(a)\n",
    "        faces_sort.append([f,exclude_f])\n",
    "    faces_sort = sorted(faces_sort, key=lambda e: e[0])\n",
    "    # 只返回邻接面\n",
    "    faces_adj = []\n",
    "    for _,ff in faces_sort:\n",
    "        faces_adj.append(ff)\n",
    "    return faces_adj"
   ]
  },
  {
   "cell_type": "code",
   "execution_count": 7,
   "id": "41333042",
   "metadata": {},
   "outputs": [],
   "source": [
    "# 读取原始模型顶点和面片\n",
    "source_org_v,source_org_f = readOBJ(\"./model/face/sourceface/face-reference.obj\")#readOBJ(\"./model/cat-lion/cat/cat-reference.obj\")#\n",
    "pose_org_v,pose_org_f = readOBJ(\"./model/face/sourceface/face-03-fury.obj\")#readOBJ(\"./model/cat-lion/cat/cat-03.obj\")#\n",
    "target_org_v,target_org_f = readOBJ(\"./model/face/targetface/head-reference.obj\")#readOBJ(\"./model/cat-lion/lion/lion-reference.obj\")#\n",
    "\n",
    "with open(\"D:/code/python/deformation_transfer/head_map.txt\", \"rb\") as fp:   # Unpickling\n",
    "    corres = pickle.load(fp)\n",
    "mapping = np.array(corres)"
   ]
  },
  {
   "cell_type": "code",
   "execution_count": 8,
   "id": "5c45fd80",
   "metadata": {},
   "outputs": [],
   "source": [
    "source_f_norms,source_v,source_f = compute_face_norms(source_org_v,source_org_f)\n",
    "target_f_norms,target_v,target_f = compute_face_norms(target_org_v,target_org_f)\n",
    "pose_f_norms,pose_v,pose_f = compute_face_norms(pose_org_v,pose_org_f)"
   ]
  },
  {
   "cell_type": "code",
   "execution_count": 9,
   "id": "c010fd53",
   "metadata": {},
   "outputs": [],
   "source": [
    "inv_target_span = np.linalg.inv(target_f_norms)\n",
    "Am = construct(target_f[mapping[:,1]],inv_target_span[mapping[:,1]],len(target_v))\n",
    "s = (pose_f_norms @ np.linalg.inv(source_f_norms)).transpose(0,2,1)\n",
    "Bm = np.concatenate(s[mapping[:,0]])"
   ]
  },
  {
   "cell_type": "code",
   "execution_count": 10,
   "id": "835dad5c",
   "metadata": {},
   "outputs": [],
   "source": [
    "# 没有对应面的部分需要平滑处理\n",
    "adjacent = compute_adjacent_by_edges(target_f[:,:-1])\n",
    "inv_target_span = np.linalg.inv(target_f_norms)\n",
    "missing = np.setdiff1d(np.arange(len(target_f)),np.unique(mapping[:,1]))\n",
    "count_adjacent = sum(len(adjacent[m]) for m in missing)\n",
    "if(count_adjacent==0):\n",
    "    AEs = sparse.csc_matrix((0,len(target_v)),dtype=float)\n",
    "    Bs = np.zeros((0,3))\n",
    "else:\n",
    "    size = len(target_v)\n",
    "    lhs = []\n",
    "    rhs = []\n",
    "    face_idx = 0\n",
    "    for f,inv in zip(target_f,inv_target_span):\n",
    "        for adjIndex in adjacent[face_idx]:            \n",
    "            lhs.append(expand(f,inv,target_v.shape[0]).tocsc())\n",
    "            rhs.append(expand(target_f[adjIndex],inv_target_span[adjIndex],target_v.shape[0]).tocsc())\n",
    "        face_idx = face_idx + 1\n",
    "    AEs = sparse.vstack(lhs) - sparse.vstack(rhs)\n",
    "    Bs = np.zeros((AEs.shape[0],3))"
   ]
  },
  {
   "cell_type": "code",
   "execution_count": 11,
   "id": "9889cd2b",
   "metadata": {},
   "outputs": [],
   "source": [
    "# 形变迁移\n",
    "Wm = 1.0 \n",
    "Ws = 1.0\n",
    "\n",
    "Astack = [Am*Wm, AEs*Ws]\n",
    "Bstack = [Bm*Wm, Bs*Ws]\n",
    "A = sparse.vstack(Astack,format='csc')\n",
    "A.eliminate_zeros()\n",
    "b = np.concatenate(Bstack)"
   ]
  },
  {
   "cell_type": "code",
   "execution_count": 12,
   "id": "8df8238e",
   "metadata": {},
   "outputs": [],
   "source": [
    "LU = sparse.linalg.splu((A.T @ A).tocsc())\n",
    "x = LU.solve(A.T @ b)\n",
    "result = x[:source_v.shape[0]]"
   ]
  },
  {
   "cell_type": "code",
   "execution_count": 13,
   "id": "e10acfa4",
   "metadata": {},
   "outputs": [],
   "source": [
    "saveObj(result,target_org_f,\"result.obj\")"
   ]
  },
  {
   "cell_type": "code",
   "execution_count": null,
   "id": "898bf867",
   "metadata": {},
   "outputs": [],
   "source": []
  }
 ],
 "metadata": {
  "kernelspec": {
   "display_name": "Python 3",
   "language": "python",
   "name": "python3"
  },
  "language_info": {
   "codemirror_mode": {
    "name": "ipython",
    "version": 3
   },
   "file_extension": ".py",
   "mimetype": "text/x-python",
   "name": "python",
   "nbconvert_exporter": "python",
   "pygments_lexer": "ipython3",
   "version": "3.9.5"
  }
 },
 "nbformat": 4,
 "nbformat_minor": 5
}
