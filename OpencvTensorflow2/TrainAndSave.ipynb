{
 "cells": [
  {
   "cell_type": "code",
   "execution_count": 1,
   "metadata": {},
   "outputs": [],
   "source": [
    "import numpy as np\n",
    "import tensorflow as tf"
   ]
  },
  {
   "cell_type": "code",
   "execution_count": 2,
   "metadata": {},
   "outputs": [],
   "source": [
    "# build data\n",
    "input_x = np.random.rand(1000, 4)\n",
    "output_y = np.dot(input_x,np.array([[3],[14],[6],[10]]))"
   ]
  },
  {
   "cell_type": "code",
   "execution_count": 3,
   "metadata": {
    "scrolled": true
   },
   "outputs": [
    {
     "name": "stdout",
     "output_type": "stream",
     "text": [
      "(1000, 4)\n",
      "(1000, 1)\n"
     ]
    }
   ],
   "source": [
    "print(input_x.shape)\n",
    "print(output_y.shape)"
   ]
  },
  {
   "cell_type": "markdown",
   "metadata": {},
   "source": [
    "## Train Model"
   ]
  },
  {
   "cell_type": "code",
   "execution_count": 4,
   "metadata": {},
   "outputs": [],
   "source": [
    "# build model\n",
    "inputs = tf.keras.layers.Input(shape=(4,));\n",
    "outputs = tf.keras.layers.Dense(units=1)(inputs)\n",
    "model = tf.keras.Model(inputs=inputs,outputs=outputs)"
   ]
  },
  {
   "cell_type": "code",
   "execution_count": 5,
   "metadata": {},
   "outputs": [],
   "source": [
    "model.compile(optimizer=tf.keras.optimizers.SGD(learning_rate=0.01),loss='mse')"
   ]
  },
  {
   "cell_type": "code",
   "execution_count": 6,
   "metadata": {},
   "outputs": [
    {
     "name": "stdout",
     "output_type": "stream",
     "text": [
      "Epoch 1/100\n",
      "29/29 [==============================] - 0s 5ms/step - loss: 125.7776 - val_loss: 33.4725\n",
      "Epoch 2/100\n",
      "29/29 [==============================] - 0s 2ms/step - loss: 20.2184 - val_loss: 10.6941\n",
      "Epoch 3/100\n",
      "29/29 [==============================] - 0s 2ms/step - loss: 10.2662 - val_loss: 8.1066\n",
      "Epoch 4/100\n",
      "29/29 [==============================] - 0s 2ms/step - loss: 8.7544 - val_loss: 7.4363\n",
      "Epoch 5/100\n",
      "29/29 [==============================] - 0s 2ms/step - loss: 8.0886 - val_loss: 6.9095\n",
      "Epoch 6/100\n",
      "29/29 [==============================] - 0s 2ms/step - loss: 7.5212 - val_loss: 6.4374\n",
      "Epoch 7/100\n",
      "29/29 [==============================] - 0s 2ms/step - loss: 7.0059 - val_loss: 6.0186\n",
      "Epoch 8/100\n",
      "29/29 [==============================] - 0s 2ms/step - loss: 6.5436 - val_loss: 5.6127\n",
      "Epoch 9/100\n",
      "29/29 [==============================] - 0s 1ms/step - loss: 6.1083 - val_loss: 5.2515\n",
      "Epoch 10/100\n",
      "29/29 [==============================] - 0s 2ms/step - loss: 5.7159 - val_loss: 4.9113\n",
      "Epoch 11/100\n",
      "29/29 [==============================] - 0s 2ms/step - loss: 5.3453 - val_loss: 4.5938\n",
      "Epoch 12/100\n",
      "29/29 [==============================] - 0s 2ms/step - loss: 4.9976 - val_loss: 4.3108\n",
      "Epoch 13/100\n",
      "29/29 [==============================] - 0s 2ms/step - loss: 4.6868 - val_loss: 4.0361\n",
      "Epoch 14/100\n",
      "29/29 [==============================] - 0s 2ms/step - loss: 4.3953 - val_loss: 3.7870\n",
      "Epoch 15/100\n",
      "29/29 [==============================] - 0s 2ms/step - loss: 4.1181 - val_loss: 3.5528\n",
      "Epoch 16/100\n",
      "29/29 [==============================] - 0s 2ms/step - loss: 3.8647 - val_loss: 3.3456\n",
      "Epoch 17/100\n",
      "29/29 [==============================] - 0s 2ms/step - loss: 3.6314 - val_loss: 3.1249\n",
      "Epoch 18/100\n",
      "29/29 [==============================] - 0s 2ms/step - loss: 3.4075 - val_loss: 2.9372\n",
      "Epoch 19/100\n",
      "29/29 [==============================] - 0s 2ms/step - loss: 3.2006 - val_loss: 2.7651\n",
      "Epoch 20/100\n",
      "29/29 [==============================] - 0s 2ms/step - loss: 3.0122 - val_loss: 2.6043\n",
      "Epoch 21/100\n",
      "29/29 [==============================] - 0s 2ms/step - loss: 2.8296 - val_loss: 2.4477\n",
      "Epoch 22/100\n",
      "29/29 [==============================] - 0s 2ms/step - loss: 2.6669 - val_loss: 2.3047\n",
      "Epoch 23/100\n",
      "29/29 [==============================] - 0s 2ms/step - loss: 2.5111 - val_loss: 2.1687\n",
      "Epoch 24/100\n",
      "29/29 [==============================] - 0s 2ms/step - loss: 2.3644 - val_loss: 2.0510\n",
      "Epoch 25/100\n",
      "29/29 [==============================] - 0s 2ms/step - loss: 2.2282 - val_loss: 1.9476\n",
      "Epoch 26/100\n",
      "29/29 [==============================] - 0s 2ms/step - loss: 2.1027 - val_loss: 1.8292\n",
      "Epoch 27/100\n",
      "29/29 [==============================] - 0s 2ms/step - loss: 1.9791 - val_loss: 1.7263\n",
      "Epoch 28/100\n",
      "29/29 [==============================] - 0s 2ms/step - loss: 1.8681 - val_loss: 1.6307\n",
      "Epoch 29/100\n",
      "29/29 [==============================] - 0s 2ms/step - loss: 1.7644 - val_loss: 1.5342\n",
      "Epoch 30/100\n",
      "29/29 [==============================] - 0s 2ms/step - loss: 1.6635 - val_loss: 1.4506\n",
      "Epoch 31/100\n",
      "29/29 [==============================] - 0s 2ms/step - loss: 1.5735 - val_loss: 1.3788\n",
      "Epoch 32/100\n",
      "29/29 [==============================] - 0s 2ms/step - loss: 1.4874 - val_loss: 1.2963\n",
      "Epoch 33/100\n",
      "29/29 [==============================] - 0s 2ms/step - loss: 1.4049 - val_loss: 1.2301\n",
      "Epoch 34/100\n",
      "29/29 [==============================] - 0s 2ms/step - loss: 1.3290 - val_loss: 1.1618\n",
      "Epoch 35/100\n",
      "29/29 [==============================] - 0s 2ms/step - loss: 1.2591 - val_loss: 1.1043\n",
      "Epoch 36/100\n",
      "29/29 [==============================] - 0s 2ms/step - loss: 1.1922 - val_loss: 1.0499\n",
      "Epoch 37/100\n",
      "29/29 [==============================] - 0s 2ms/step - loss: 1.1304 - val_loss: 0.9921\n",
      "Epoch 38/100\n",
      "29/29 [==============================] - 0s 2ms/step - loss: 1.0697 - val_loss: 0.9405\n",
      "Epoch 39/100\n",
      "29/29 [==============================] - 0s 2ms/step - loss: 1.0139 - val_loss: 0.8958\n",
      "Epoch 40/100\n",
      "29/29 [==============================] - 0s 2ms/step - loss: 0.9620 - val_loss: 0.8496\n",
      "Epoch 41/100\n",
      "29/29 [==============================] - 0s 2ms/step - loss: 0.9105 - val_loss: 0.8077\n",
      "Epoch 42/100\n",
      "29/29 [==============================] - 0s 2ms/step - loss: 0.8640 - val_loss: 0.7673\n",
      "Epoch 43/100\n",
      "29/29 [==============================] - 0s 2ms/step - loss: 0.8209 - val_loss: 0.7339\n",
      "Epoch 44/100\n",
      "29/29 [==============================] - 0s 2ms/step - loss: 0.7789 - val_loss: 0.6909\n",
      "Epoch 45/100\n",
      "29/29 [==============================] - 0s 2ms/step - loss: 0.7383 - val_loss: 0.6569\n",
      "Epoch 46/100\n",
      "29/29 [==============================] - 0s 2ms/step - loss: 0.7010 - val_loss: 0.6229\n",
      "Epoch 47/100\n",
      "29/29 [==============================] - 0s 2ms/step - loss: 0.6655 - val_loss: 0.5950\n",
      "Epoch 48/100\n",
      "29/29 [==============================] - 0s 2ms/step - loss: 0.6329 - val_loss: 0.5655\n",
      "Epoch 49/100\n",
      "29/29 [==============================] - 0s 2ms/step - loss: 0.6019 - val_loss: 0.5370\n",
      "Epoch 50/100\n",
      "29/29 [==============================] - 0s 2ms/step - loss: 0.5720 - val_loss: 0.5110\n",
      "Epoch 51/100\n",
      "29/29 [==============================] - 0s 2ms/step - loss: 0.5442 - val_loss: 0.4867\n",
      "Epoch 52/100\n",
      "29/29 [==============================] - 0s 2ms/step - loss: 0.5173 - val_loss: 0.4636\n",
      "Epoch 53/100\n",
      "29/29 [==============================] - 0s 2ms/step - loss: 0.4918 - val_loss: 0.4417\n",
      "Epoch 54/100\n",
      "29/29 [==============================] - 0s 2ms/step - loss: 0.4680 - val_loss: 0.4217\n",
      "Epoch 55/100\n",
      "29/29 [==============================] - 0s 2ms/step - loss: 0.4450 - val_loss: 0.4013\n",
      "Epoch 56/100\n",
      "29/29 [==============================] - 0s 2ms/step - loss: 0.4234 - val_loss: 0.3818\n",
      "Epoch 57/100\n",
      "29/29 [==============================] - 0s 2ms/step - loss: 0.4034 - val_loss: 0.3632\n",
      "Epoch 58/100\n",
      "29/29 [==============================] - 0s 2ms/step - loss: 0.3836 - val_loss: 0.3459\n",
      "Epoch 59/100\n",
      "29/29 [==============================] - 0s 2ms/step - loss: 0.3649 - val_loss: 0.3293\n",
      "Epoch 60/100\n",
      "29/29 [==============================] - 0s 2ms/step - loss: 0.3473 - val_loss: 0.3139\n",
      "Epoch 61/100\n",
      "29/29 [==============================] - 0s 2ms/step - loss: 0.3309 - val_loss: 0.2997\n",
      "Epoch 62/100\n",
      "29/29 [==============================] - 0s 2ms/step - loss: 0.3155 - val_loss: 0.2857\n",
      "Epoch 63/100\n",
      "29/29 [==============================] - 0s 2ms/step - loss: 0.3006 - val_loss: 0.2721\n",
      "Epoch 64/100\n",
      "29/29 [==============================] - 0s 2ms/step - loss: 0.2866 - val_loss: 0.2598\n",
      "Epoch 65/100\n",
      "29/29 [==============================] - 0s 2ms/step - loss: 0.2731 - val_loss: 0.2476\n",
      "Epoch 66/100\n",
      "29/29 [==============================] - 0s 2ms/step - loss: 0.2602 - val_loss: 0.2363\n",
      "Epoch 67/100\n",
      "29/29 [==============================] - 0s 2ms/step - loss: 0.2476 - val_loss: 0.2251\n",
      "Epoch 68/100\n",
      "29/29 [==============================] - 0s 2ms/step - loss: 0.2359 - val_loss: 0.2149\n",
      "Epoch 69/100\n",
      "29/29 [==============================] - 0s 1ms/step - loss: 0.2248 - val_loss: 0.2047\n",
      "Epoch 70/100\n",
      "29/29 [==============================] - 0s 2ms/step - loss: 0.2143 - val_loss: 0.1952\n",
      "Epoch 71/100\n",
      "29/29 [==============================] - 0s 2ms/step - loss: 0.2038 - val_loss: 0.1859\n",
      "Epoch 72/100\n",
      "29/29 [==============================] - 0s 2ms/step - loss: 0.1941 - val_loss: 0.1773\n",
      "Epoch 73/100\n",
      "29/29 [==============================] - 0s 2ms/step - loss: 0.1851 - val_loss: 0.1694\n",
      "Epoch 74/100\n",
      "29/29 [==============================] - 0s 2ms/step - loss: 0.1765 - val_loss: 0.1623\n",
      "Epoch 75/100\n",
      "29/29 [==============================] - 0s 2ms/step - loss: 0.1681 - val_loss: 0.1536\n",
      "Epoch 76/100\n",
      "29/29 [==============================] - 0s 2ms/step - loss: 0.1602 - val_loss: 0.1472\n",
      "Epoch 77/100\n",
      "29/29 [==============================] - 0s 2ms/step - loss: 0.1529 - val_loss: 0.1400\n",
      "Epoch 78/100\n",
      "29/29 [==============================] - 0s 2ms/step - loss: 0.1458 - val_loss: 0.1339\n",
      "Epoch 79/100\n",
      "29/29 [==============================] - 0s 2ms/step - loss: 0.1392 - val_loss: 0.1276\n",
      "Epoch 80/100\n",
      "29/29 [==============================] - 0s 1ms/step - loss: 0.1324 - val_loss: 0.1214\n",
      "Epoch 81/100\n",
      "29/29 [==============================] - 0s 2ms/step - loss: 0.1260 - val_loss: 0.1169\n",
      "Epoch 82/100\n",
      "29/29 [==============================] - 0s 2ms/step - loss: 0.1203 - val_loss: 0.1112\n"
     ]
    },
    {
     "name": "stdout",
     "output_type": "stream",
     "text": [
      "Epoch 83/100\n",
      "29/29 [==============================] - 0s 2ms/step - loss: 0.1147 - val_loss: 0.1057\n",
      "Epoch 84/100\n",
      "29/29 [==============================] - 0s 2ms/step - loss: 0.1096 - val_loss: 0.1013\n",
      "Epoch 85/100\n",
      "29/29 [==============================] - 0s 1ms/step - loss: 0.1045 - val_loss: 0.0969\n",
      "Epoch 86/100\n",
      "29/29 [==============================] - 0s 2ms/step - loss: 0.0998 - val_loss: 0.0922\n",
      "Epoch 87/100\n",
      "29/29 [==============================] - 0s 2ms/step - loss: 0.0951 - val_loss: 0.0879\n",
      "Epoch 88/100\n",
      "29/29 [==============================] - 0s 2ms/step - loss: 0.0907 - val_loss: 0.0840\n",
      "Epoch 89/100\n",
      "29/29 [==============================] - 0s 2ms/step - loss: 0.0866 - val_loss: 0.0802\n",
      "Epoch 90/100\n",
      "29/29 [==============================] - 0s 1ms/step - loss: 0.0827 - val_loss: 0.0765\n",
      "Epoch 91/100\n",
      "29/29 [==============================] - 0s 1ms/step - loss: 0.0790 - val_loss: 0.0729\n",
      "Epoch 92/100\n",
      "29/29 [==============================] - 0s 2ms/step - loss: 0.0753 - val_loss: 0.0698\n",
      "Epoch 93/100\n",
      "29/29 [==============================] - 0s 2ms/step - loss: 0.0719 - val_loss: 0.0666\n",
      "Epoch 94/100\n",
      "29/29 [==============================] - 0s 2ms/step - loss: 0.0686 - val_loss: 0.0641\n",
      "Epoch 95/100\n",
      "29/29 [==============================] - 0s 2ms/step - loss: 0.0656 - val_loss: 0.0611\n",
      "Epoch 96/100\n",
      "29/29 [==============================] - 0s 1ms/step - loss: 0.0626 - val_loss: 0.0582\n",
      "Epoch 97/100\n",
      "29/29 [==============================] - 0s 2ms/step - loss: 0.0597 - val_loss: 0.0556\n",
      "Epoch 98/100\n",
      "29/29 [==============================] - 0s 2ms/step - loss: 0.0570 - val_loss: 0.0532\n",
      "Epoch 99/100\n",
      "29/29 [==============================] - 0s 2ms/step - loss: 0.0545 - val_loss: 0.0505\n",
      "Epoch 100/100\n",
      "29/29 [==============================] - 0s 1ms/step - loss: 0.0520 - val_loss: 0.0480\n"
     ]
    },
    {
     "data": {
      "text/plain": [
       "<tensorflow.python.keras.callbacks.History at 0x139f3a4e0>"
      ]
     },
     "execution_count": 6,
     "metadata": {},
     "output_type": "execute_result"
    }
   ],
   "source": [
    "model.fit(x=input_x,y=output_y,epochs=100,validation_split=0.1)"
   ]
  },
  {
   "cell_type": "code",
   "execution_count": 7,
   "metadata": {},
   "outputs": [
    {
     "data": {
      "text/plain": [
       "[array([[ 2.669988],\n",
       "        [13.562156],\n",
       "        [ 5.622848],\n",
       "        [ 9.587276]], dtype=float32),\n",
       " array([0.80391794], dtype=float32)]"
      ]
     },
     "execution_count": 7,
     "metadata": {},
     "output_type": "execute_result"
    }
   ],
   "source": [
    "model.get_weights()"
   ]
  },
  {
   "cell_type": "markdown",
   "metadata": {},
   "source": [
    "## save as pb\n",
    "https://github.com/leimao/Frozen_Graph_TensorFlow"
   ]
  },
  {
   "cell_type": "code",
   "execution_count": 9,
   "metadata": {},
   "outputs": [],
   "source": [
    "from tensorflow.python.framework.convert_to_constants import convert_variables_to_constants_v2"
   ]
  },
  {
   "cell_type": "code",
   "execution_count": 10,
   "metadata": {},
   "outputs": [
    {
     "name": "stdout",
     "output_type": "stream",
     "text": [
      "--------------------------------------------------\n",
      "Frozen model layers: \n",
      "x\n",
      "model/dense/MatMul/ReadVariableOp/resource\n",
      "model/dense/MatMul/ReadVariableOp\n",
      "model/dense/MatMul\n",
      "model/dense/BiasAdd/ReadVariableOp/resource\n",
      "model/dense/BiasAdd/ReadVariableOp\n",
      "model/dense/BiasAdd\n",
      "Identity\n",
      "--------------------------------------------------\n",
      "Frozen model inputs: \n",
      "[<tf.Tensor 'x:0' shape=(None, 4) dtype=float32>]\n",
      "Frozen model outputs: \n",
      "[<tf.Tensor 'Identity:0' shape=(None, 1) dtype=float32>]\n"
     ]
    },
    {
     "data": {
      "text/plain": [
       "'./frozen_models/frozen_graph.pb'"
      ]
     },
     "execution_count": 10,
     "metadata": {},
     "output_type": "execute_result"
    }
   ],
   "source": [
    "# Convert Keras model to ConcreteFunction\n",
    "full_model = tf.function(lambda x: model(x))\n",
    "full_model = full_model.get_concrete_function(\n",
    "    tf.TensorSpec(model.inputs[0].shape, model.inputs[0].dtype))\n",
    "\n",
    "# Get frozen ConcreteFunction\n",
    "frozen_func = convert_variables_to_constants_v2(full_model)\n",
    "frozen_func.graph.as_graph_def()\n",
    "\n",
    "layers = [op.name for op in frozen_func.graph.get_operations()]\n",
    "print(\"-\" * 50)\n",
    "print(\"Frozen model layers: \")\n",
    "for layer in layers:\n",
    "    print(layer)\n",
    "\n",
    "print(\"-\" * 50)\n",
    "print(\"Frozen model inputs: \")\n",
    "print(frozen_func.inputs)\n",
    "print(\"Frozen model outputs: \")\n",
    "print(frozen_func.outputs)\n",
    "\n",
    "# Save frozen graph from frozen ConcreteFunction to hard drive\n",
    "tf.io.write_graph(graph_or_graph_def=frozen_func.graph,\n",
    "                  logdir=\"./frozen_models\",\n",
    "                  name=\"frozen_graph.pb\",\n",
    "                  as_text=False)"
   ]
  },
  {
   "cell_type": "code",
   "execution_count": null,
   "metadata": {},
   "outputs": [],
   "source": []
  }
 ],
 "metadata": {
  "kernelspec": {
   "display_name": "Python 3",
   "language": "python",
   "name": "python3"
  },
  "language_info": {
   "codemirror_mode": {
    "name": "ipython",
    "version": 3
   },
   "file_extension": ".py",
   "mimetype": "text/x-python",
   "name": "python",
   "nbconvert_exporter": "python",
   "pygments_lexer": "ipython3",
   "version": "3.6.8"
  }
 },
 "nbformat": 4,
 "nbformat_minor": 4
}
