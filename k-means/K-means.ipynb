{
 "cells": [
  {
   "cell_type": "markdown",
   "metadata": {},
   "source": [
    "# K-means算法实现\n",
    "理论参考：https://www.cnblogs.com/lliuye/p/9144312.html"
   ]
  },
  {
   "cell_type": "code",
   "execution_count": 1,
   "metadata": {},
   "outputs": [],
   "source": [
    "import numpy as np"
   ]
  },
  {
   "cell_type": "code",
   "execution_count": 2,
   "metadata": {},
   "outputs": [],
   "source": [
    "#计算聚类中心\n",
    "def cal_center(points):\n",
    "    return np.mean(points,0)\n",
    "# 计算欧式距离\n",
    "def cal_distance(p1,p2):\n",
    "    return np.linalg.norm(p2-p1)"
   ]
  },
  {
   "cell_type": "code",
   "execution_count": 3,
   "metadata": {},
   "outputs": [],
   "source": [
    "#k-means流程\n",
    "def Kmeans(points,steps=100):\n",
    "    # 随机选取2个点作为中心\n",
    "    total_num=points.shape[0]\n",
    "    idx = np.arange(total_num)\n",
    "    np.random.shuffle(idx)\n",
    "    p1 = points[idx[0]]\n",
    "    p2 = points[idx[1]]\n",
    "    # 计算所有点到中心的距离，并划分簇\n",
    "    center1 = p1\n",
    "    center2 = p2\n",
    "    for s in range(steps):\n",
    "        # 迭代计算多少次\n",
    "        g1= []\n",
    "        g2= []\n",
    "        #划分簇\n",
    "        for i in range(total_num):\n",
    "            dist1 = cal_distance(points[i],p1)\n",
    "            dist2 = cal_distance(points[i],p2)\n",
    "            if(dist1>dist2):\n",
    "                g1.append(points[i])\n",
    "            else:\n",
    "                g2.append(points[i])\n",
    "        #重新计算中心\n",
    "        p1 = cal_center(np.array(g1))\n",
    "        p2 = cal_center(np.array(g2))\n",
    "    return p1,p2"
   ]
  },
  {
   "cell_type": "code",
   "execution_count": 4,
   "metadata": {},
   "outputs": [],
   "source": [
    "def infer(new_data,c1,c2):\n",
    "    dist1=cal_distance(new_data,c1)\n",
    "    dist2=cal_distance(new_data,c2)\n",
    "    if(dist1>dist2):\n",
    "        return 0\n",
    "    else:\n",
    "        return 1"
   ]
  },
  {
   "cell_type": "code",
   "execution_count": 5,
   "metadata": {},
   "outputs": [],
   "source": [
    "def make_data(sample_number):\n",
    "    mean0=[2,3]\n",
    "    cov=np.mat([[1,0],[0,2]])\n",
    "    data1=np.random.multivariate_normal(mean0,cov,sample_number)\n",
    "\n",
    "    mean1=[7,8]\n",
    "    cov=np.mat([[1,0],[0,2]])\n",
    "    data2=np.random.multivariate_normal(mean1,cov,sample_number)\n",
    "    \n",
    "    y1 = np.zeros((sample_number,1))\n",
    "    y2 = np.ones((sample_number,1))\n",
    "    label = np.vstack((y1,y2))\n",
    "    \n",
    "    points = np.vstack((data1,data2)) \n",
    "    shuffle_idx = np.arange(sample_number*2)\n",
    "    np.random.shuffle(shuffle_idx)\n",
    "    points = points[shuffle_idx]\n",
    "    labels = label[shuffle_idx]\n",
    "    return points,labels"
   ]
  },
  {
   "cell_type": "code",
   "execution_count": 6,
   "metadata": {},
   "outputs": [],
   "source": [
    "points,labels=make_data(1000)\n",
    "c1,c2 = Kmeans(points,1000)"
   ]
  },
  {
   "cell_type": "markdown",
   "metadata": {},
   "source": [
    "画图"
   ]
  },
  {
   "cell_type": "code",
   "execution_count": 7,
   "metadata": {},
   "outputs": [],
   "source": [
    "import matplotlib.pyplot as plt"
   ]
  },
  {
   "cell_type": "code",
   "execution_count": 23,
   "metadata": {},
   "outputs": [
    {
     "data": {
      "text/plain": [
       "[<matplotlib.lines.Line2D at 0x28fbf7ffbc8>]"
      ]
     },
     "execution_count": 23,
     "metadata": {},
     "output_type": "execute_result"
    },
    {
     "data": {
      "image/png": "[encoded data removed]",
      "text/plain": [
       "<Figure size 432x288 with 1 Axes>"
      ]
     },
     "metadata": {
      "needs_background": "light"
     },
     "output_type": "display_data"
    }
   ],
   "source": [
    "#原始数据点\n",
    "plt.plot(points[:,0],points[:,1],'ob')\n",
    "#聚类中心\n",
    "plt.plot(c1[0],c1[1],'+r',markersize=10)\n",
    "plt.plot(c2[0],c2[1],'^r',markersize=10)"
   ]
  },
  {
   "cell_type": "markdown",
   "metadata": {},
   "source": [
    "## 使用sklearn中的工具包"
   ]
  },
  {
   "cell_type": "code",
   "execution_count": 10,
   "metadata": {},
   "outputs": [],
   "source": [
    "from sklearn.cluster import KMeans"
   ]
  },
  {
   "cell_type": "code",
   "execution_count": 12,
   "metadata": {},
   "outputs": [],
   "source": [
    "y_pred = KMeans(n_clusters=2,random_state=0).fit_predict(points)"
   ]
  },
  {
   "cell_type": "code",
   "execution_count": 21,
   "metadata": {},
   "outputs": [
    {
     "data": {
      "text/plain": [
       "<matplotlib.collections.PathCollection at 0x28fbfd18b08>"
      ]
     },
     "execution_count": 21,
     "metadata": {},
     "output_type": "execute_result"
    },
    {
     "data": {
      "image/png": "[encoded data removed]",
      "text/plain": [
       "<Figure size 432x288 with 1 Axes>"
      ]
     },
     "metadata": {
      "needs_background": "light"
     },
     "output_type": "display_data"
    }
   ],
   "source": [
    "plt.scatter(points[y_pred==0,0],points[y_pred==0,1],s=2,c='r')\n",
    "plt.scatter(points[y_pred==1,0],points[y_pred==1,1],s=2,c='b')"
   ]
  },
  {
   "cell_type": "code",
   "execution_count": null,
   "metadata": {},
   "outputs": [],
   "source": []
  }
 ],
 "metadata": {
  "kernelspec": {
   "display_name": "Python 3",
   "language": "python",
   "name": "python3"
  },
  "language_info": {
   "codemirror_mode": {
    "name": "ipython",
    "version": 3
   },
   "file_extension": ".py",
   "mimetype": "text/x-python",
   "name": "python",
   "nbconvert_exporter": "python",
   "pygments_lexer": "ipython3",
   "version": "3.7.6"
  }
 },
 "nbformat": 4,
 "nbformat_minor": 2
}
